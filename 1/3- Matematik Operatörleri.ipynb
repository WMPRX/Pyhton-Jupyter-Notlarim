{
 "cells": [
  {
   "cell_type": "markdown",
   "id": "93af1614",
   "metadata": {},
   "source": [
    "# Tamsayı Bölme (//) Operatörü\n",
    "\n",
    "Bu öperatör bir sayının başka bir sayıyla bölümünden kalan tam sayıyı ifade eder. Normal bölme işleminde ise sayı küsüratlı şekilde çıkıyor."
   ]
  },
  {
   "cell_type": "code",
   "execution_count": 1,
   "id": "6f05882c",
   "metadata": {},
   "outputs": [
    {
     "data": {
      "text/plain": [
       "2"
      ]
     },
     "execution_count": 1,
     "metadata": {},
     "output_type": "execute_result"
    }
   ],
   "source": [
    "4 // 2"
   ]
  },
  {
   "cell_type": "code",
   "execution_count": 2,
   "id": "5b9589bc",
   "metadata": {},
   "outputs": [
    {
     "data": {
      "text/plain": [
       "3"
      ]
     },
     "execution_count": 2,
     "metadata": {},
     "output_type": "execute_result"
    }
   ],
   "source": [
    "## 13'ün 4 ile bölümünden kalan sayı 3'tür\n",
    "13 // 4"
   ]
  },
  {
   "cell_type": "code",
   "execution_count": 3,
   "id": "a41b4103",
   "metadata": {},
   "outputs": [
    {
     "data": {
      "text/plain": [
       "3"
      ]
     },
     "execution_count": 3,
     "metadata": {},
     "output_type": "execute_result"
    }
   ],
   "source": [
    "22 // 7"
   ]
  },
  {
   "cell_type": "code",
   "execution_count": 4,
   "id": "9b48256f",
   "metadata": {},
   "outputs": [
    {
     "data": {
      "text/plain": [
       "5"
      ]
     },
     "execution_count": 4,
     "metadata": {},
     "output_type": "execute_result"
    }
   ],
   "source": [
    "40 // 7"
   ]
  },
  {
   "cell_type": "markdown",
   "id": "fe4b9354",
   "metadata": {},
   "source": [
    "# Kalanı Bulma (%) - Mod Alma\n",
    "\n",
    "Bir sayının başka bir sayıya bölümden kalan sonucunu ifade eder. "
   ]
  },
  {
   "cell_type": "code",
   "execution_count": 5,
   "id": "62f7833a",
   "metadata": {},
   "outputs": [
    {
     "data": {
      "text/plain": [
       "1"
      ]
     },
     "execution_count": 5,
     "metadata": {},
     "output_type": "execute_result"
    }
   ],
   "source": [
    "## 13'ün 4 ile bölümünden kalan sayı 1'dir.\n",
    "\n",
    "13 % 4"
   ]
  },
  {
   "cell_type": "code",
   "execution_count": 6,
   "id": "810e1e4a",
   "metadata": {},
   "outputs": [
    {
     "data": {
      "text/plain": [
       "0"
      ]
     },
     "execution_count": 6,
     "metadata": {},
     "output_type": "execute_result"
    }
   ],
   "source": [
    "14 % 2"
   ]
  },
  {
   "cell_type": "markdown",
   "id": "efed03e2",
   "metadata": {},
   "source": [
    "# Üs Bulma (**)\n",
    "\n",
    "Bu operatör bir sayının üssünü bulmamızı sağlar. "
   ]
  },
  {
   "cell_type": "code",
   "execution_count": 7,
   "id": "4959e48e",
   "metadata": {},
   "outputs": [
    {
     "data": {
      "text/plain": [
       "64"
      ]
     },
     "execution_count": 7,
     "metadata": {},
     "output_type": "execute_result"
    }
   ],
   "source": [
    "## 4^3\n",
    "\n",
    "4 ** 3"
   ]
  },
  {
   "cell_type": "code",
   "execution_count": 8,
   "id": "97138889",
   "metadata": {},
   "outputs": [
    {
     "data": {
      "text/plain": [
       "16"
      ]
     },
     "execution_count": 8,
     "metadata": {},
     "output_type": "execute_result"
    }
   ],
   "source": [
    "2 ** 4"
   ]
  },
  {
   "cell_type": "code",
   "execution_count": 9,
   "id": "f4e01b09",
   "metadata": {},
   "outputs": [
    {
     "data": {
      "text/plain": [
       "30.959144000000002"
      ]
     },
     "execution_count": 9,
     "metadata": {},
     "output_type": "execute_result"
    }
   ],
   "source": [
    "3.14 ** 3"
   ]
  },
  {
   "cell_type": "markdown",
   "id": "1889646d",
   "metadata": {},
   "source": [
    "Peki bir sayının karekökünü üs bulma oparatörü sayesinde nasıl bulabiliriz ?\n",
    "\n",
    "Bir sayının karekökü o sayının 1/2 (0.5) üssüdür. O zaman 64 sayısının karekökünü bulmaya çalışalım."
   ]
  },
  {
   "cell_type": "code",
   "execution_count": 11,
   "id": "b52fb9ab",
   "metadata": {},
   "outputs": [
    {
     "data": {
      "text/plain": [
       "8.0"
      ]
     },
     "execution_count": 11,
     "metadata": {},
     "output_type": "execute_result"
    }
   ],
   "source": [
    "64 ** 0.5"
   ]
  },
  {
   "cell_type": "code",
   "execution_count": 12,
   "id": "64b1d612",
   "metadata": {},
   "outputs": [
    {
     "data": {
      "text/plain": [
       "5.0"
      ]
     },
     "execution_count": 12,
     "metadata": {},
     "output_type": "execute_result"
    }
   ],
   "source": [
    "## bir diğer örnek\n",
    "\n",
    "25 ** 0.5"
   ]
  },
  {
   "cell_type": "code",
   "execution_count": null,
   "id": "ac531e8e",
   "metadata": {},
   "outputs": [],
   "source": [
    "Bunlar dışında bir sayının küp kökünü de bulabiliriz."
   ]
  },
  {
   "cell_type": "raw",
   "id": "790d9472",
   "metadata": {},
   "source": [
    "8 ** (1/3)"
   ]
  },
  {
   "cell_type": "code",
   "execution_count": 14,
   "id": "269344c6",
   "metadata": {},
   "outputs": [
    {
     "data": {
      "text/plain": [
       "2.7144176165949063"
      ]
     },
     "execution_count": 14,
     "metadata": {},
     "output_type": "execute_result"
    }
   ],
   "source": [
    "20 ** (1/3)"
   ]
  },
  {
   "cell_type": "markdown",
   "id": "40101b3a",
   "metadata": {},
   "source": [
    "# İşaret Değiştirme (-)\n",
    "\n",
    "Bir sayının işretini değiştirmek istersek bunu kullanabiliriz."
   ]
  },
  {
   "cell_type": "code",
   "execution_count": 15,
   "id": "527e31d1",
   "metadata": {},
   "outputs": [
    {
     "data": {
      "text/plain": [
       "4"
      ]
     },
     "execution_count": 15,
     "metadata": {},
     "output_type": "execute_result"
    }
   ],
   "source": [
    "a = -4\n",
    "-a"
   ]
  },
  {
   "cell_type": "code",
   "execution_count": 16,
   "id": "bdb315ac",
   "metadata": {},
   "outputs": [
    {
     "data": {
      "text/plain": [
       "-7"
      ]
     },
     "execution_count": 16,
     "metadata": {},
     "output_type": "execute_result"
    }
   ],
   "source": [
    "a = 7\n",
    "-a"
   ]
  },
  {
   "cell_type": "markdown",
   "id": "30f98c2e",
   "metadata": {},
   "source": [
    "# İşlemleri Beraber Kullanma ve İşlem Sırası\n",
    "\n",
    "1- Parantez içi her zaman önce yapılır.\n",
    "\n",
    "2- Çarpma ve bölme her zaman toplama ve çıkarma işleminden önce yapılır\n",
    "\n",
    "3- İşlemler soldan sağa gör deeğerlendirilir\n"
   ]
  },
  {
   "cell_type": "code",
   "execution_count": 17,
   "id": "8fec8b9f",
   "metadata": {},
   "outputs": [
    {
     "data": {
      "text/plain": [
       "-4.0"
      ]
     },
     "execution_count": 17,
     "metadata": {},
     "output_type": "execute_result"
    }
   ],
   "source": [
    "8 + 4 * 3 / 2 - 18"
   ]
  },
  {
   "cell_type": "code",
   "execution_count": 18,
   "id": "148a945c",
   "metadata": {},
   "outputs": [
    {
     "data": {
      "text/plain": [
       "-4.0"
      ]
     },
     "execution_count": 18,
     "metadata": {},
     "output_type": "execute_result"
    }
   ],
   "source": [
    "#Kafamız karışırsa paranteze alabiliriz\n",
    "\n",
    "8 + ((4 * 3) / 2) - 18"
   ]
  },
  {
   "cell_type": "code",
   "execution_count": 19,
   "id": "15940cda",
   "metadata": {},
   "outputs": [
    {
     "data": {
      "text/plain": [
       "11.0"
      ]
     },
     "execution_count": 19,
     "metadata": {},
     "output_type": "execute_result"
    }
   ],
   "source": [
    "((10 ** 2) // 3) / 3"
   ]
  },
  {
   "cell_type": "code",
   "execution_count": null,
   "id": "d225213a",
   "metadata": {},
   "outputs": [],
   "source": []
  }
 ],
 "metadata": {
  "kernelspec": {
   "display_name": "Python 3 (ipykernel)",
   "language": "python",
   "name": "python3"
  },
  "language_info": {
   "codemirror_mode": {
    "name": "ipython",
    "version": 3
   },
   "file_extension": ".py",
   "mimetype": "text/x-python",
   "name": "python",
   "nbconvert_exporter": "python",
   "pygments_lexer": "ipython3",
   "version": "3.9.7"
  }
 },
 "nbformat": 4,
 "nbformat_minor": 5
}
