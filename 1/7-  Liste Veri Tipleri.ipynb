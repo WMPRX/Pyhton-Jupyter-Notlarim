{
 "cells": [
  {
   "cell_type": "markdown",
   "id": "eba97df5",
   "metadata": {},
   "source": [
    "# Listeler"
   ]
  },
  {
   "cell_type": "markdown",
   "id": "242c4cfc",
   "metadata": {},
   "source": [
    "Listeler yapıları gereği stringlere oldukça benzerler ve kullanıldıkları yerlerde çok yararlı olan veri tipidir. Tıpkı stringler gibi indexlenirler, parçalanırlar ve üzerlerinde çeşitli değişiklikler yapabildiğimiz metodlar bulunur. Ancak listelerin stringlerden oldukça önemli farkları bulunur. Stringler değiştirilemez bir veritipidir ancak listeler değiştirilebilir.\n",
    "\n",
    "Bir listede her veritipinden elemanı saklayabiliriz. Bu anlamda sıralı diziye benzer. Peki bu konuda ne öğreneceğiz ?\n",
    "\n",
    "1. Liste oluşturma\n",
    "2. İndexleme ve parçalama\n",
    "3. Temel liste işlemleri ve metodları\n",
    "4. İç içe listeler\n",
    "\n",
    "## Liste Oluşturma\n",
    "\n",
    "Listeler bir [] köşeli parantez içine veriler veya değerler konularak oluşturulabilir."
   ]
  },
  {
   "cell_type": "code",
   "execution_count": 2,
   "id": "c511eede",
   "metadata": {},
   "outputs": [
    {
     "data": {
      "text/plain": [
       "[3, 4, 5, 6, 'Elma', 3.14, 6.8, 1.09]"
      ]
     },
     "execution_count": 2,
     "metadata": {},
     "output_type": "execute_result"
    }
   ],
   "source": [
    "#liste değişkeni, değişik veritiplerinden değerler saklayabiliyoruz.\n",
    "\n",
    "liste = [3,4,5,6,\"Elma\", 3.14, 6.8,1.09]\n",
    "liste"
   ]
  },
  {
   "cell_type": "code",
   "execution_count": 3,
   "id": "bac15dab",
   "metadata": {},
   "outputs": [
    {
     "data": {
      "text/plain": [
       "[3, 4, 5, 6, 'Elma', 3.14, 6.8, 1.09]"
      ]
     },
     "execution_count": 3,
     "metadata": {},
     "output_type": "execute_result"
    }
   ],
   "source": [
    "liste2 = [1,2,3,4,5,6,7]\n",
    "liste"
   ]
  },
  {
   "cell_type": "code",
   "execution_count": 5,
   "id": "8dfe126f",
   "metadata": {},
   "outputs": [
    {
     "data": {
      "text/plain": [
       "[]"
      ]
     },
     "execution_count": 5,
     "metadata": {},
     "output_type": "execute_result"
    }
   ],
   "source": [
    "#Boş Liste\n",
    "\n",
    "bos_liste = []\n",
    "bos_liste"
   ]
  },
  {
   "cell_type": "code",
   "execution_count": 8,
   "id": "be1ad732",
   "metadata": {},
   "outputs": [],
   "source": [
    "#Boş liste list() fonksiyonuyla da oluşturulabili"
   ]
  },
  {
   "cell_type": "code",
   "execution_count": 9,
   "id": "0c5b9ffe",
   "metadata": {},
   "outputs": [
    {
     "data": {
      "text/plain": [
       "[]"
      ]
     },
     "execution_count": 9,
     "metadata": {},
     "output_type": "execute_result"
    }
   ],
   "source": [
    "liste = list()\n",
    "liste"
   ]
  },
  {
   "cell_type": "code",
   "execution_count": 16,
   "id": "fc780825",
   "metadata": {},
   "outputs": [
    {
     "data": {
      "text/plain": [
       "8"
      ]
     },
     "execution_count": 16,
     "metadata": {},
     "output_type": "execute_result"
    }
   ],
   "source": [
    "#len() fonksiyonu listeler üzerinde de kullanılabilir.\n",
    "\n",
    "liste3 = [1,2,3,4,5,6,7,8]\n",
    "\n",
    "len(liste3)"
   ]
  },
  {
   "cell_type": "markdown",
   "id": "5aba09f7",
   "metadata": {},
   "source": [
    "Bir string list() fonksiyonu yardımıyla listeye dönüştürülebilir."
   ]
  },
  {
   "cell_type": "code",
   "execution_count": 12,
   "id": "5ed3d1a6",
   "metadata": {},
   "outputs": [
    {
     "data": {
      "text/plain": [
       "['M', 'e', 'r', 'h', 'a', 'b', 'a']"
      ]
     },
     "execution_count": 12,
     "metadata": {},
     "output_type": "execute_result"
    }
   ],
   "source": [
    "s = (\"Merhaba\")\n",
    "lst = list(s)\n",
    "\n",
    "lst"
   ]
  },
  {
   "cell_type": "markdown",
   "id": "b9af5433",
   "metadata": {},
   "source": [
    "## Listeleri İndexleme Ve Parçalama\n",
    "\n",
    "listeleri indexleme ve parçalama stringler ile birebir aynıdır."
   ]
  },
  {
   "cell_type": "code",
   "execution_count": 4,
   "id": "a803938c",
   "metadata": {},
   "outputs": [
    {
     "data": {
      "text/plain": [
       "[1, 2, 3, 4, 5, 6, 7]"
      ]
     },
     "execution_count": 4,
     "metadata": {},
     "output_type": "execute_result"
    }
   ],
   "source": [
    "liste = [1,2,3,4,5,6,7]\n",
    "liste"
   ]
  },
  {
   "cell_type": "code",
   "execution_count": 5,
   "id": "f89e6649",
   "metadata": {},
   "outputs": [
    {
     "data": {
      "text/plain": [
       "1"
      ]
     },
     "execution_count": 5,
     "metadata": {},
     "output_type": "execute_result"
    }
   ],
   "source": [
    "#0. eleman\n",
    "\n",
    "liste[0]"
   ]
  },
  {
   "cell_type": "code",
   "execution_count": 6,
   "id": "6915fac1",
   "metadata": {},
   "outputs": [
    {
     "data": {
      "text/plain": [
       "5"
      ]
     },
     "execution_count": 6,
     "metadata": {},
     "output_type": "execute_result"
    }
   ],
   "source": [
    "#4. eleman\n",
    "\n",
    "liste[4]"
   ]
  },
  {
   "cell_type": "code",
   "execution_count": 7,
   "id": "08f44bba",
   "metadata": {},
   "outputs": [
    {
     "data": {
      "text/plain": [
       "7"
      ]
     },
     "execution_count": 7,
     "metadata": {},
     "output_type": "execute_result"
    }
   ],
   "source": [
    "#Sonuncu eleman \n",
    "\n",
    "liste[len(liste)-1]"
   ]
  },
  {
   "cell_type": "code",
   "execution_count": 9,
   "id": "40e34a72",
   "metadata": {},
   "outputs": [
    {
     "data": {
      "text/plain": [
       "[1, 2, 3, 4]"
      ]
     },
     "execution_count": 9,
     "metadata": {},
     "output_type": "execute_result"
    }
   ],
   "source": [
    "# Baştan 4. indexe kadar (dahil değil)\n",
    "\n",
    "liste[:4]"
   ]
  },
  {
   "cell_type": "code",
   "execution_count": 10,
   "id": "ecab7c20",
   "metadata": {},
   "outputs": [
    {
     "data": {
      "text/plain": [
       "[2, 3, 4, 5]"
      ]
     },
     "execution_count": 10,
     "metadata": {},
     "output_type": "execute_result"
    }
   ],
   "source": [
    "#1. indexten 5. indexe kadar\n",
    "liste[1:5]"
   ]
  },
  {
   "cell_type": "code",
   "execution_count": 12,
   "id": "4d7fc338",
   "metadata": {},
   "outputs": [
    {
     "data": {
      "text/plain": [
       "[6, 7]"
      ]
     },
     "execution_count": 12,
     "metadata": {},
     "output_type": "execute_result"
    }
   ],
   "source": [
    "liste[5:]   #5. indexten sona kadar"
   ]
  },
  {
   "cell_type": "code",
   "execution_count": 14,
   "id": "27e9052b",
   "metadata": {},
   "outputs": [
    {
     "data": {
      "text/plain": [
       "[7, 6, 5, 4, 3, 2, 1]"
      ]
     },
     "execution_count": 14,
     "metadata": {},
     "output_type": "execute_result"
    }
   ],
   "source": [
    "liste[::-1]    #ters çevir"
   ]
  },
  {
   "cell_type": "code",
   "execution_count": 19,
   "id": "e262793d",
   "metadata": {},
   "outputs": [
    {
     "data": {
      "text/plain": [
       "[1, 3, 5, 7]"
      ]
     },
     "execution_count": 19,
     "metadata": {},
     "output_type": "execute_result"
    }
   ],
   "source": [
    "liste[::2]      # baştan sona kadar 2 atlayarak devam et"
   ]
  },
  {
   "cell_type": "code",
   "execution_count": 22,
   "id": "79c45733",
   "metadata": {},
   "outputs": [
    {
     "data": {
      "text/plain": [
       "[2, 3, 4]"
      ]
     },
     "execution_count": 22,
     "metadata": {},
     "output_type": "execute_result"
    }
   ],
   "source": [
    "liste[1:4:1]"
   ]
  },
  {
   "cell_type": "markdown",
   "id": "d7fca27c",
   "metadata": {},
   "source": [
    "## Temel Liste Metodları ve İşlemleri\n",
    "\n",
    "Bu kısımda listelrde yapabileceğimiz temel işlemleri ve metodları göreceğiz. Listelerin daha birçok metodunu ileriki zamanlrda öğrenmiş olacağız.\n",
    "\n",
    "Bir listeyi birbiri ile toplama işlemlerini stringlerdeki gibi yapacağız."
   ]
  },
  {
   "cell_type": "code",
   "execution_count": 57,
   "id": "783eeddc",
   "metadata": {},
   "outputs": [
    {
     "data": {
      "text/plain": [
       "[1, 2, 3, 4, 5, 6, 7, 8, 9, 10]"
      ]
     },
     "execution_count": 57,
     "metadata": {},
     "output_type": "execute_result"
    }
   ],
   "source": [
    "liste1 = [1,2,3,4]\n",
    "liste2 = [5,6,7,8,9,10]\n",
    "liste3 = liste1 + liste2\n",
    "liste3"
   ]
  },
  {
   "cell_type": "code",
   "execution_count": 58,
   "id": "48762538",
   "metadata": {},
   "outputs": [
    {
     "data": {
      "text/plain": [
       "[1, 2, 3, 4, 'Mehmet']"
      ]
     },
     "execution_count": 58,
     "metadata": {},
     "output_type": "execute_result"
    }
   ],
   "source": [
    "#Bir listeye eleman eklemek istersek eğer aşağıdaki şekilde yapabiliriz.\n",
    "\n",
    "liste = [1,2,3,4]\n",
    "liste = liste + [\"Mehmet\"]\n",
    "liste"
   ]
  },
  {
   "cell_type": "code",
   "execution_count": 59,
   "id": "1965c57a",
   "metadata": {},
   "outputs": [
    {
     "data": {
      "text/plain": [
       "[10, 2, 3, 4, 'Mehmet']"
      ]
     },
     "execution_count": 59,
     "metadata": {},
     "output_type": "execute_result"
    }
   ],
   "source": [
    "#Listeler direk olarak değişebilir\n",
    "\n",
    "liste[0] = 10\n",
    "liste"
   ]
  },
  {
   "cell_type": "code",
   "execution_count": 60,
   "id": "c59d942e",
   "metadata": {},
   "outputs": [
    {
     "data": {
      "text/plain": [
       "[40, 10, 3, 4, 'Mehmet']"
      ]
     },
     "execution_count": 60,
     "metadata": {},
     "output_type": "execute_result"
    }
   ],
   "source": [
    "#Listeyi değiiştirmek için şöyle bir yöntem de kullanabiliriz\n",
    "\n",
    "liste[:2] = [40,10]\n",
    "liste"
   ]
  },
  {
   "cell_type": "markdown",
   "id": "24394716",
   "metadata": {},
   "source": [
    "Bir listeyi tamsayı ile de çarpabiliriz"
   ]
  },
  {
   "cell_type": "code",
   "execution_count": 61,
   "id": "c792f03d",
   "metadata": {},
   "outputs": [
    {
     "data": {
      "text/plain": [
       "[1, 2, 3, 4, 5, 1, 2, 3, 4, 5, 1, 2, 3, 4, 5]"
      ]
     },
     "execution_count": 61,
     "metadata": {},
     "output_type": "execute_result"
    }
   ],
   "source": [
    "liste = [1,2,3,4,5]\n",
    "liste * 3"
   ]
  },
  {
   "cell_type": "code",
   "execution_count": 62,
   "id": "3c81a630",
   "metadata": {},
   "outputs": [
    {
     "data": {
      "text/plain": [
       "[1, 2, 3, 4, 5]"
      ]
     },
     "execution_count": 62,
     "metadata": {},
     "output_type": "execute_result"
    }
   ],
   "source": [
    "liste      #bu şekilde liste değişmiyor"
   ]
  },
  {
   "cell_type": "code",
   "execution_count": 63,
   "id": "6bb71d25",
   "metadata": {},
   "outputs": [],
   "source": [
    "liste = liste * 3      # bu şekilde yaptığımız zaman liste değişir."
   ]
  },
  {
   "cell_type": "code",
   "execution_count": 64,
   "id": "6788542d",
   "metadata": {},
   "outputs": [
    {
     "data": {
      "text/plain": [
       "[1, 2, 3, 4, 5, 1, 2, 3, 4, 5, 1, 2, 3, 4, 5]"
      ]
     },
     "execution_count": 64,
     "metadata": {},
     "output_type": "execute_result"
    }
   ],
   "source": [
    "liste"
   ]
  },
  {
   "cell_type": "markdown",
   "id": "67eb3428",
   "metadata": {},
   "source": [
    "Şimdi de bazı temel liste metodlarına bakalım. Listeler diğer programlama dillerindeki **arraylere** göre oldukça esnektir. Belli bir boyutları yoktur. Toplama ve çıkarma yapmak için oldukça idealdir.\n",
    "\n",
    "### append metodu\n",
    "\n",
    "append metodu verdiğimiz bir değeri listeye eklenmesini sağlar."
   ]
  },
  {
   "cell_type": "code",
   "execution_count": 70,
   "id": "15d820df",
   "metadata": {},
   "outputs": [
    {
     "data": {
      "text/plain": [
       "[1, 2, 3, 4, 5, 6, 7]"
      ]
     },
     "execution_count": 70,
     "metadata": {},
     "output_type": "execute_result"
    }
   ],
   "source": [
    "liste = [1,2,3,4,5,6]   # gördüğünüz gibi 7 sayısı da en sona eklenmiş oldu.\n",
    "liste.append(7)\n",
    "liste"
   ]
  },
  {
   "cell_type": "code",
   "execution_count": 71,
   "id": "d81748d8",
   "metadata": {},
   "outputs": [
    {
     "data": {
      "text/plain": [
       "[1, 2, 3, 4, 5, 6, 7, 'Mehmet']"
      ]
     },
     "execution_count": 71,
     "metadata": {},
     "output_type": "execute_result"
    }
   ],
   "source": [
    "liste.append(\"Mehmet\")\n",
    "liste"
   ]
  },
  {
   "cell_type": "markdown",
   "id": "63e89f35",
   "metadata": {},
   "source": [
    "### pop metodu\n",
    "\n",
    "Bu metod, bir değer vermezsek eğer listenin son indexindeki elemanı, değer verirsek verdiğimiz değere karşılık gelen indexteki elemanı listeden atar ve attığı elemanı ekrana basar."
   ]
  },
  {
   "cell_type": "code",
   "execution_count": 77,
   "id": "9c11080f",
   "metadata": {},
   "outputs": [
    {
     "data": {
      "text/plain": [
       "5"
      ]
     },
     "execution_count": 77,
     "metadata": {},
     "output_type": "execute_result"
    }
   ],
   "source": [
    "liste = [1,2,3,4,5]\n",
    "liste.pop()"
   ]
  },
  {
   "cell_type": "code",
   "execution_count": 78,
   "id": "2ad01d7d",
   "metadata": {},
   "outputs": [
    {
     "data": {
      "text/plain": [
       "[1, 2, 3, 4]"
      ]
     },
     "execution_count": 78,
     "metadata": {},
     "output_type": "execute_result"
    }
   ],
   "source": [
    "liste"
   ]
  },
  {
   "cell_type": "code",
   "execution_count": 79,
   "id": "2a089ac9",
   "metadata": {},
   "outputs": [
    {
     "data": {
      "text/plain": [
       "3"
      ]
     },
     "execution_count": 79,
     "metadata": {},
     "output_type": "execute_result"
    }
   ],
   "source": [
    "eleman = liste.pop(2)\n",
    "eleman"
   ]
  },
  {
   "cell_type": "code",
   "execution_count": 80,
   "id": "84a80196",
   "metadata": {},
   "outputs": [
    {
     "data": {
      "text/plain": [
       "[1, 2, 4]"
      ]
     },
     "execution_count": 80,
     "metadata": {},
     "output_type": "execute_result"
    }
   ],
   "source": [
    "liste           #görüldüğü gibi 3 sayısı listeden atılmış oldu"
   ]
  },
  {
   "cell_type": "code",
   "execution_count": 81,
   "id": "459af9cd",
   "metadata": {},
   "outputs": [],
   "source": [
    "####################"
   ]
  },
  {
   "cell_type": "code",
   "execution_count": 82,
   "id": "04f759c3",
   "metadata": {},
   "outputs": [
    {
     "data": {
      "text/plain": [
       "[1, 2, 4, 'Murat']"
      ]
     },
     "execution_count": 82,
     "metadata": {},
     "output_type": "execute_result"
    }
   ],
   "source": [
    "liste.append(\"Murat\")      #buradan muratı listeye ekledik\n",
    "liste"
   ]
  },
  {
   "cell_type": "code",
   "execution_count": 85,
   "id": "598c0488",
   "metadata": {},
   "outputs": [
    {
     "data": {
      "text/plain": [
       "4"
      ]
     },
     "execution_count": 85,
     "metadata": {},
     "output_type": "execute_result"
    }
   ],
   "source": [
    "liste.pop()                 #burada ise muratı tekrardan listeden kaldırdık."
   ]
  },
  {
   "cell_type": "code",
   "execution_count": 86,
   "id": "d766001c",
   "metadata": {},
   "outputs": [
    {
     "data": {
      "text/plain": [
       "[1, 2]"
      ]
     },
     "execution_count": 86,
     "metadata": {},
     "output_type": "execute_result"
    }
   ],
   "source": [
    "liste"
   ]
  },
  {
   "cell_type": "markdown",
   "id": "44807968",
   "metadata": {},
   "source": [
    "**NOT:** Liste elemanlarına eğer olmayan bir indexi verirsek Python bizlere hata verecektir."
   ]
  },
  {
   "cell_type": "code",
   "execution_count": 87,
   "id": "603b9d2b",
   "metadata": {},
   "outputs": [
    {
     "ename": "IndexError",
     "evalue": "list index out of range",
     "output_type": "error",
     "traceback": [
      "\u001b[1;31m---------------------------------------------------------------------------\u001b[0m",
      "\u001b[1;31mIndexError\u001b[0m                                Traceback (most recent call last)",
      "\u001b[1;32m~\\AppData\\Local\\Temp/ipykernel_13060/3801738134.py\u001b[0m in \u001b[0;36m<module>\u001b[1;34m\u001b[0m\n\u001b[0;32m      1\u001b[0m \u001b[0mliste\u001b[0m \u001b[1;33m=\u001b[0m \u001b[1;33m[\u001b[0m\u001b[1;36m76\u001b[0m\u001b[1;33m,\u001b[0m\u001b[1;36m85\u001b[0m\u001b[1;33m,\u001b[0m\u001b[1;36m23\u001b[0m\u001b[1;33m,\u001b[0m\u001b[1;36m6\u001b[0m\u001b[1;33m]\u001b[0m\u001b[1;33m\u001b[0m\u001b[1;33m\u001b[0m\u001b[0m\n\u001b[1;32m----> 2\u001b[1;33m \u001b[0mliste\u001b[0m\u001b[1;33m[\u001b[0m\u001b[1;36m50\u001b[0m\u001b[1;33m]\u001b[0m\u001b[1;33m\u001b[0m\u001b[1;33m\u001b[0m\u001b[0m\n\u001b[0m",
      "\u001b[1;31mIndexError\u001b[0m: list index out of range"
     ]
    }
   ],
   "source": [
    "liste = [76,85,23,6]\n",
    "liste[50]"
   ]
  },
  {
   "cell_type": "markdown",
   "id": "b67a868a",
   "metadata": {},
   "source": [
    "### sort metodu\n",
    "\n",
    "sort metodu listenin elemanlarını sıralamamızı sağlar."
   ]
  },
  {
   "cell_type": "code",
   "execution_count": 90,
   "id": "cd129eeb",
   "metadata": {},
   "outputs": [
    {
     "data": {
      "text/plain": [
       "[4, 5, 5, 6, 8, 9, 24, 76]"
      ]
     },
     "execution_count": 90,
     "metadata": {},
     "output_type": "execute_result"
    }
   ],
   "source": [
    "liste = [5,4,6,8,5,9,76,24]\n",
    "liste.sort()                       #Sayıları küçükten büyüğe doğru sıralamamızı sağlar\n",
    "liste"
   ]
  },
  {
   "cell_type": "code",
   "execution_count": 92,
   "id": "8b6ff0ee",
   "metadata": {},
   "outputs": [
    {
     "data": {
      "text/plain": [
       "[76, 24, 9, 8, 6, 5, 5, 4]"
      ]
     },
     "execution_count": 92,
     "metadata": {},
     "output_type": "execute_result"
    }
   ],
   "source": [
    "liste.sort(reverse = True)        # Sayıları büyükten küçüğe doğrı sıralar.\n",
    "liste"
   ]
  },
  {
   "cell_type": "code",
   "execution_count": 95,
   "id": "8329e6f8",
   "metadata": {},
   "outputs": [
    {
     "data": {
      "text/plain": [
       "['Armut', 'Elma', 'Nar', 'Üzüm']"
      ]
     },
     "execution_count": 95,
     "metadata": {},
     "output_type": "execute_result"
    }
   ],
   "source": [
    "liste = [\"Elma\", \"Armut\",\"Üzüm\",\"Nar\"]\n",
    "liste.sort()                               #Alfabetik sıraya göre sıralama yapmamızı sağlar\n",
    "liste"
   ]
  },
  {
   "cell_type": "code",
   "execution_count": 97,
   "id": "d054642f",
   "metadata": {},
   "outputs": [
    {
     "data": {
      "text/plain": [
       "['Üzüm', 'Nar', 'Elma', 'Armut']"
      ]
     },
     "execution_count": 97,
     "metadata": {},
     "output_type": "execute_result"
    }
   ],
   "source": [
    "liste.sort(reverse = True)                 #Alfabetik sıranın tersine göre sıralama yapar\n",
    "liste"
   ]
  },
  {
   "cell_type": "markdown",
   "id": "9d9aee6a",
   "metadata": {},
   "source": [
    "### İç içe listeler\n",
    "\n",
    "Bir listenin içinde başka bir liste bulundurmak mümkündür. Bunlara pythonda iç içe listeler denmektedir. Bu tip bir özellik ağaç yapılarına veya matris yapılarına oldukça kullanışlı olmaktadır."
   ]
  },
  {
   "cell_type": "code",
   "execution_count": 98,
   "id": "f86cefcb",
   "metadata": {},
   "outputs": [
    {
     "data": {
      "text/plain": [
       "[[1, 2, 3], [4, 5, 6], [7, 8, 9]]"
      ]
     },
     "execution_count": 98,
     "metadata": {},
     "output_type": "execute_result"
    }
   ],
   "source": [
    "liste1 = [1,2,3]\n",
    "liste2 = [4,5,6]\n",
    "liste3 = [7,8,9]\n",
    "\n",
    "yeniListe = [liste1,liste2,liste3]\n",
    "yeniListe"
   ]
  },
  {
   "cell_type": "markdown",
   "id": "034c5e73",
   "metadata": {},
   "source": [
    "Şimdi 2. listenin elemanına nasıl ulaşacağımıza bakalım"
   ]
  },
  {
   "cell_type": "code",
   "execution_count": 99,
   "id": "92f17b2e",
   "metadata": {},
   "outputs": [
    {
     "data": {
      "text/plain": [
       "4"
      ]
     },
     "execution_count": 99,
     "metadata": {},
     "output_type": "execute_result"
    }
   ],
   "source": [
    "#1. elemanın 0. elamanı\n",
    "\n",
    "yeniListe[1][0]"
   ]
  },
  {
   "cell_type": "code",
   "execution_count": 100,
   "id": "27141d46",
   "metadata": {},
   "outputs": [
    {
     "data": {
      "text/plain": [
       "[[1, 2, 3], [4, 5, 6], [7, 8, 9]]"
      ]
     },
     "execution_count": 100,
     "metadata": {},
     "output_type": "execute_result"
    }
   ],
   "source": [
    "# Ayrıca iç içe listeler için şöyle bir yöntemde uygulayabiliriz.\n",
    "\n",
    "liste = [[1,2,3],[4,5,6],[7,8,9]]\n",
    "liste"
   ]
  },
  {
   "cell_type": "code",
   "execution_count": null,
   "id": "44100823",
   "metadata": {},
   "outputs": [],
   "source": []
  }
 ],
 "metadata": {
  "kernelspec": {
   "display_name": "Python 3 (ipykernel)",
   "language": "python",
   "name": "python3"
  },
  "language_info": {
   "codemirror_mode": {
    "name": "ipython",
    "version": 3
   },
   "file_extension": ".py",
   "mimetype": "text/x-python",
   "name": "python",
   "nbconvert_exporter": "python",
   "pygments_lexer": "ipython3",
   "version": "3.9.7"
  }
 },
 "nbformat": 4,
 "nbformat_minor": 5
}
