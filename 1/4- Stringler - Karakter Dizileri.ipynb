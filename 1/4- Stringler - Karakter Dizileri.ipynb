{
 "cells": [
  {
   "cell_type": "markdown",
   "id": "4e4365ff",
   "metadata": {},
   "source": [
    "# Stringler\n",
    "\n",
    "Stringler gerçek hayatta kullandığımız yazıların aynısıdır. Bu veri tipi aslında her biri bir karakter olan dizidir."
   ]
  },
  {
   "cell_type": "markdown",
   "id": "92fcd41c",
   "metadata": {},
   "source": [
    "# String Oluşturma\n",
    "\n",
    "String oluşturmanın birden fazla yolu bulunmaktadır. Hangisini seçeceğiniz bize kalmıştır."
   ]
  },
  {
   "cell_type": "code",
   "execution_count": 1,
   "id": "aa06666e",
   "metadata": {},
   "outputs": [
    {
     "data": {
      "text/plain": [
       "'Mehmet Akın'"
      ]
     },
     "execution_count": 1,
     "metadata": {},
     "output_type": "execute_result"
    }
   ],
   "source": [
    "#Tek tırnak ile\n",
    "\n",
    "'Mehmet Akın'"
   ]
  },
  {
   "cell_type": "code",
   "execution_count": 2,
   "id": "bf15e060",
   "metadata": {},
   "outputs": [
    {
     "data": {
      "text/plain": [
       "'Mehmet Akın'"
      ]
     },
     "execution_count": 2,
     "metadata": {},
     "output_type": "execute_result"
    }
   ],
   "source": [
    "#Çift tırnak ile\n",
    "\n",
    "\"Mehmet Akın\""
   ]
  },
  {
   "cell_type": "code",
   "execution_count": 3,
   "id": "08de18cc",
   "metadata": {},
   "outputs": [
    {
     "data": {
      "text/plain": [
       "'Mehmet Akın'"
      ]
     },
     "execution_count": 3,
     "metadata": {},
     "output_type": "execute_result"
    }
   ],
   "source": [
    "#Üç tırnak ile\n",
    "\n",
    "\"\"\"Mehmet Akın\"\"\""
   ]
  },
  {
   "cell_type": "markdown",
   "id": "47da92a2",
   "metadata": {},
   "source": [
    "Eğer bir stringi çift tırnak ile başlattıysak yine çift tırnak ile bitirmeliyiz"
   ]
  },
  {
   "cell_type": "code",
   "execution_count": 4,
   "id": "5759cb39",
   "metadata": {},
   "outputs": [],
   "source": [
    "#Peki özel kelimelerde tırnak işareti varsa nasıl kullanbiliriz."
   ]
  },
  {
   "cell_type": "code",
   "execution_count": 5,
   "id": "579dc89a",
   "metadata": {},
   "outputs": [
    {
     "ename": "SyntaxError",
     "evalue": "invalid syntax (Temp/ipykernel_17336/3165629663.py, line 3)",
     "output_type": "error",
     "traceback": [
      "\u001b[1;36m  File \u001b[1;32m\"C:\\Users\\mehme\\AppData\\Local\\Temp/ipykernel_17336/3165629663.py\"\u001b[1;36m, line \u001b[1;32m3\u001b[0m\n\u001b[1;33m    'Murat'ın bugün dersi var\u001b[0m\n\u001b[1;37m           ^\u001b[0m\n\u001b[1;31mSyntaxError\u001b[0m\u001b[1;31m:\u001b[0m invalid syntax\n"
     ]
    }
   ],
   "source": [
    "#Hatalı kod örneği:\n",
    "\n",
    "'Murat'ın bugün dersi var"
   ]
  },
  {
   "cell_type": "code",
   "execution_count": 6,
   "id": "c6abf538",
   "metadata": {},
   "outputs": [
    {
     "data": {
      "text/plain": [
       "\"Murat'ın bugün dersi var\""
      ]
     },
     "execution_count": 6,
     "metadata": {},
     "output_type": "execute_result"
    }
   ],
   "source": [
    "#Doğru kod örneği;\n",
    "\n",
    "\"Murat'ın bugün dersi var\""
   ]
  },
  {
   "cell_type": "code",
   "execution_count": 8,
   "id": "c63cb9c8",
   "metadata": {},
   "outputs": [
    {
     "data": {
      "text/plain": [
       "\"Murat'ın bugün dersi var\""
      ]
     },
     "execution_count": 8,
     "metadata": {},
     "output_type": "execute_result"
    }
   ],
   "source": [
    "#Veya şu şekilde\n",
    "\n",
    "'Murat\\'ın bugün dersi var'"
   ]
  },
  {
   "cell_type": "markdown",
   "id": "7ce0a1c0",
   "metadata": {},
   "source": [
    "Bir Stringden Değişken Oluşturma"
   ]
  },
  {
   "cell_type": "code",
   "execution_count": 9,
   "id": "be647b3b",
   "metadata": {},
   "outputs": [
    {
     "data": {
      "text/plain": [
       "'Merhaba'"
      ]
     },
     "execution_count": 9,
     "metadata": {},
     "output_type": "execute_result"
    }
   ],
   "source": [
    "a = \"Merhaba\"\n",
    "a"
   ]
  },
  {
   "cell_type": "markdown",
   "id": "a4cc0e43",
   "metadata": {},
   "source": [
    "# String İndexleme ve Parçalama \n",
    "\n",
    "Stringler bir karakter dizileri oldukları için her bir karaterin string içinde yeri vardır. Örneğin; \"ali\" stringinde a,l ve i karakterlerinin yerleri index olarak adlandırılır. Pythonda ve genellikle çoğu programlama dilinde stringlerin incelenmesi 0'dan başlamaktadır. String içerisindeki karakterlere index yoluyla aşağıdaki gibi ulaşabiliriz."
   ]
  },
  {
   "cell_type": "code",
   "execution_count": 10,
   "id": "2c3c1235",
   "metadata": {},
   "outputs": [
    {
     "data": {
      "text/plain": [
       "'a'"
      ]
     },
     "execution_count": 10,
     "metadata": {},
     "output_type": "execute_result"
    }
   ],
   "source": [
    "# 0. elemana ulaşalım bunun için [] operatörünü kullanacağız\n",
    "\n",
    "a = 'ali'\n",
    "\n",
    "a[0]"
   ]
  },
  {
   "cell_type": "code",
   "execution_count": 11,
   "id": "a9017d5b",
   "metadata": {},
   "outputs": [
    {
     "data": {
      "text/plain": [
       "'l'"
      ]
     },
     "execution_count": 11,
     "metadata": {},
     "output_type": "execute_result"
    }
   ],
   "source": [
    "a[1]"
   ]
  },
  {
   "cell_type": "code",
   "execution_count": 12,
   "id": "299eb7e3",
   "metadata": {},
   "outputs": [
    {
     "data": {
      "text/plain": [
       "'i'"
      ]
     },
     "execution_count": 12,
     "metadata": {},
     "output_type": "execute_result"
    }
   ],
   "source": [
    "a[2]"
   ]
  },
  {
   "cell_type": "markdown",
   "id": "899e305e",
   "metadata": {},
   "source": [
    "Pythonda stringler baştan olduğu gibi sondan da indexlenebilirler. Sondan başlarsak eğer -1,-2 ... şeklnde indexlenirler."
   ]
  },
  {
   "cell_type": "code",
   "execution_count": 13,
   "id": "46bfc982",
   "metadata": {},
   "outputs": [
    {
     "data": {
      "text/plain": [
       "'t'"
      ]
     },
     "execution_count": 13,
     "metadata": {},
     "output_type": "execute_result"
    }
   ],
   "source": [
    "a = \"Mehmet\"\n",
    "\n",
    "a [-1]"
   ]
  },
  {
   "cell_type": "code",
   "execution_count": 14,
   "id": "e8b25a05",
   "metadata": {},
   "outputs": [
    {
     "data": {
      "text/plain": [
       "'e'"
      ]
     },
     "execution_count": 14,
     "metadata": {},
     "output_type": "execute_result"
    }
   ],
   "source": [
    "a[-2]"
   ]
  },
  {
   "cell_type": "code",
   "execution_count": 15,
   "id": "9bf3661e",
   "metadata": {},
   "outputs": [
    {
     "data": {
      "text/plain": [
       "'m'"
      ]
     },
     "execution_count": 15,
     "metadata": {},
     "output_type": "execute_result"
    }
   ],
   "source": [
    "a[-3]"
   ]
  },
  {
   "cell_type": "markdown",
   "id": "ff5fb4c7",
   "metadata": {},
   "source": [
    "Peki uzun bir stringin sadece belirli bir kısmını elde etmek içn ne yapacağız ? Bunun için indexleri: ve [] işaretini kullanacağız. Formülümüz ise şu şekilde; **[başlama indexi: bitiş indexi: atlama değeri]**"
   ]
  },
  {
   "cell_type": "code",
   "execution_count": 22,
   "id": "e16f1ad0",
   "metadata": {},
   "outputs": [],
   "source": [
    "#Örnek\n",
    "\n",
    "b = \"Python programlama dili\""
   ]
  },
  {
   "cell_type": "code",
   "execution_count": 23,
   "id": "bda66741",
   "metadata": {},
   "outputs": [
    {
     "data": {
      "text/plain": [
       "'on pro'"
      ]
     },
     "execution_count": 23,
     "metadata": {},
     "output_type": "execute_result"
    }
   ],
   "source": [
    "#4. indexten başla 10. indexe kadar(dahil değil) al\n",
    "\n",
    "b[4:10]"
   ]
  },
  {
   "cell_type": "code",
   "execution_count": 24,
   "id": "a7be236d",
   "metadata": {},
   "outputs": [
    {
     "data": {
      "text/plain": [
       "'Python pro'"
      ]
     },
     "execution_count": 24,
     "metadata": {},
     "output_type": "execute_result"
    }
   ],
   "source": [
    "#Başlangıç değeri belirtilmemişse en baştan başlayarak alır.\n",
    "b[:10]"
   ]
  },
  {
   "cell_type": "code",
   "execution_count": 27,
   "id": "d566b826",
   "metadata": {},
   "outputs": [
    {
     "data": {
      "text/plain": [
       "'on programlama dili'"
      ]
     },
     "execution_count": 27,
     "metadata": {},
     "output_type": "execute_result"
    }
   ],
   "source": [
    "#Bitiş değeri belirtilmemişse en sondan başlayarak alır.\n",
    "b[4:]"
   ]
  },
  {
   "cell_type": "code",
   "execution_count": 28,
   "id": "abfa493e",
   "metadata": {},
   "outputs": [
    {
     "data": {
      "text/plain": [
       "'Python programlama dili'"
      ]
     },
     "execution_count": 28,
     "metadata": {},
     "output_type": "execute_result"
    }
   ],
   "source": [
    "#Eğer iki değer de belirtilmemişse stringin tamamını alır.\n",
    "b[:]"
   ]
  },
  {
   "cell_type": "code",
   "execution_count": 29,
   "id": "8edeff58",
   "metadata": {},
   "outputs": [
    {
     "data": {
      "text/plain": [
       "'Python programlama dil'"
      ]
     },
     "execution_count": 29,
     "metadata": {},
     "output_type": "execute_result"
    }
   ],
   "source": [
    "#Son karaktere kadar al.\n",
    "b[:-1]"
   ]
  },
  {
   "cell_type": "code",
   "execution_count": 30,
   "id": "58ddb150",
   "metadata": {},
   "outputs": [
    {
     "data": {
      "text/plain": [
       "'Pto rgalm ii'"
      ]
     },
     "execution_count": 30,
     "metadata": {},
     "output_type": "execute_result"
    }
   ],
   "source": [
    "#Baştan sona iki değeri atlaya atlaya al\n",
    "b[::2]"
   ]
  },
  {
   "cell_type": "code",
   "execution_count": 31,
   "id": "15ab4d03",
   "metadata": {},
   "outputs": [
    {
     "data": {
      "text/plain": [
       "'opg'"
      ]
     },
     "execution_count": 31,
     "metadata": {},
     "output_type": "execute_result"
    }
   ],
   "source": [
    "#4. indexten 12. indexe kadar 3 değer atlayarak al\n",
    "b[4:12:3]"
   ]
  },
  {
   "cell_type": "code",
   "execution_count": 33,
   "id": "9bcfe573",
   "metadata": {},
   "outputs": [
    {
     "data": {
      "text/plain": [
       "'ilid amalmargorp nohtyP'"
      ]
     },
     "execution_count": 33,
     "metadata": {},
     "output_type": "execute_result"
    }
   ],
   "source": [
    "#Baştan sona -1 atlayarak stringi al (stringi ters çevirme)\n",
    "b[::-1]"
   ]
  },
  {
   "cell_type": "markdown",
   "id": "70a0225a",
   "metadata": {},
   "source": [
    "# String Özellikleri\n",
    "\n",
    "Bir stringin uzunluğunu nasıl bulabiliriz ? Bunun iin len() fonksiyonunu kullanmalıyız"
   ]
  },
  {
   "cell_type": "code",
   "execution_count": 37,
   "id": "486b2d17",
   "metadata": {},
   "outputs": [
    {
     "data": {
      "text/plain": [
       "23"
      ]
     },
     "execution_count": 37,
     "metadata": {},
     "output_type": "execute_result"
    }
   ],
   "source": [
    "#len() fonsiyonu kullanma\n",
    "c = \"Python programlama dili\"\n",
    "len(c)"
   ]
  },
  {
   "cell_type": "markdown",
   "id": "b03b90c9",
   "metadata": {},
   "source": [
    "Peki bir stringin bir karakterini direkt olarak değiştirebilir miyiz ? Deneylim"
   ]
  },
  {
   "cell_type": "code",
   "execution_count": null,
   "id": "c888d253",
   "metadata": {},
   "outputs": [],
   "source": [
    "d = \"Mehmet\""
   ]
  },
  {
   "cell_type": "code",
   "execution_count": 40,
   "id": "5547d2cd",
   "metadata": {},
   "outputs": [
    {
     "ename": "TypeError",
     "evalue": "'str' object does not support item assignment",
     "output_type": "error",
     "traceback": [
      "\u001b[1;31m---------------------------------------------------------------------------\u001b[0m",
      "\u001b[1;31mTypeError\u001b[0m                                 Traceback (most recent call last)",
      "\u001b[1;32m~\\AppData\\Local\\Temp/ipykernel_17336/1856805998.py\u001b[0m in \u001b[0;36m<module>\u001b[1;34m\u001b[0m\n\u001b[1;32m----> 1\u001b[1;33m \u001b[0mc\u001b[0m\u001b[1;33m[\u001b[0m\u001b[1;36m0\u001b[0m\u001b[1;33m]\u001b[0m \u001b[1;33m=\u001b[0m \u001b[1;34m\"u\"\u001b[0m\u001b[1;33m\u001b[0m\u001b[1;33m\u001b[0m\u001b[0m\n\u001b[0m",
      "\u001b[1;31mTypeError\u001b[0m: 'str' object does not support item assignment"
     ]
    }
   ],
   "source": [
    "c[0] = \"u\""
   ]
  },
  {
   "cell_type": "markdown",
   "id": "96aa4311",
   "metadata": {},
   "source": [
    "Gördüğünüz gibi bir stringin karakterini direkt olarak değiştiremiyoruz. Çünkü stringler böyle bir işlemi desteklemiyor."
   ]
  },
  {
   "cell_type": "markdown",
   "id": "712b3b5d",
   "metadata": {},
   "source": [
    "Ayrıca stringleri ile birbiri ile toplaybiliriz"
   ]
  },
  {
   "cell_type": "code",
   "execution_count": 44,
   "id": "18675d88",
   "metadata": {},
   "outputs": [
    {
     "data": {
      "text/plain": [
       "'python programlama dili'"
      ]
     },
     "execution_count": 44,
     "metadata": {},
     "output_type": "execute_result"
    }
   ],
   "source": [
    "#stringleri birbirleri ile toplayalım yani birleştirelim\n",
    "\n",
    "a = \"python \"\n",
    "b = \"programlama \"\n",
    "c = \"dili\"\n",
    "\n",
    "a + b + c"
   ]
  },
  {
   "cell_type": "markdown",
   "id": "2d1f2d78",
   "metadata": {},
   "source": [
    "Stringleri birleştirerek yeni bir değikene atabiliriz"
   ]
  },
  {
   "cell_type": "code",
   "execution_count": 45,
   "id": "e46c9761",
   "metadata": {},
   "outputs": [
    {
     "data": {
      "text/plain": [
       "'Mehmet akın'"
      ]
     },
     "execution_count": 45,
     "metadata": {},
     "output_type": "execute_result"
    }
   ],
   "source": [
    "a = \"Mehmet \"\n",
    "\n",
    "a = a + \"akın\"  #Burada stringler yeni bir değişkene atanmış oldu.\n",
    "a"
   ]
  },
  {
   "cell_type": "code",
   "execution_count": null,
   "id": "9d10a23c",
   "metadata": {},
   "outputs": [],
   "source": []
  }
 ],
 "metadata": {
  "kernelspec": {
   "display_name": "Python 3 (ipykernel)",
   "language": "python",
   "name": "python3"
  },
  "language_info": {
   "codemirror_mode": {
    "name": "ipython",
    "version": 3
   },
   "file_extension": ".py",
   "mimetype": "text/x-python",
   "name": "python",
   "nbconvert_exporter": "python",
   "pygments_lexer": "ipython3",
   "version": "3.9.7"
  }
 },
 "nbformat": 4,
 "nbformat_minor": 5
}
