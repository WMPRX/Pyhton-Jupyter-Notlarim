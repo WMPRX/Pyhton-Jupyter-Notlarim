{
 "cells": [
  {
   "cell_type": "markdown",
   "id": "1cede007",
   "metadata": {},
   "source": [
    "# Kullanıcıdan Girdi Alma  - input() Fonksiyonu\n",
    "\n",
    "Programlama yaparken kullanıcıdan girdi almak oldukça önemlidir. Pythonda kullanıcıdan girdi almamızı sağlayan *input()* fonsiyonu bulunmaktadır."
   ]
  },
  {
   "cell_type": "markdown",
   "id": "89991307",
   "metadata": {},
   "source": [
    "## İnput Fonksiyonu Kullanımı\n",
    "\n",
    "input() fonksiyonu şu şekilde kullanılır"
   ]
  },
  {
   "cell_type": "code",
   "execution_count": 2,
   "id": "29bc11ec",
   "metadata": {},
   "outputs": [
    {
     "name": "stdout",
     "output_type": "stream",
     "text": [
      "15\n"
     ]
    },
    {
     "data": {
      "text/plain": [
       "'15'"
      ]
     },
     "execution_count": 2,
     "metadata": {},
     "output_type": "execute_result"
    }
   ],
   "source": [
    "input()    #çalıştırdığımız zaman input bir girdi bekler."
   ]
  },
  {
   "cell_type": "markdown",
   "id": "b8f30a89",
   "metadata": {},
   "source": [
    "Eğer istersek fonksiyonun içine bir değer de gönderebiliriz."
   ]
  },
  {
   "cell_type": "code",
   "execution_count": 3,
   "id": "42299074",
   "metadata": {},
   "outputs": [
    {
     "name": "stdout",
     "output_type": "stream",
     "text": [
      "Lütfen bir sayı giriniz: 6\n"
     ]
    },
    {
     "data": {
      "text/plain": [
       "'6'"
      ]
     },
     "execution_count": 3,
     "metadata": {},
     "output_type": "execute_result"
    }
   ],
   "source": [
    "input(\"Lütfen bir sayı giriniz: \")"
   ]
  },
  {
   "cell_type": "markdown",
   "id": "1efd3240",
   "metadata": {},
   "source": [
    "Kullanıcıdan aldığımız değeri input() fonsiyonu ile şu şekilde elde edebiliriz."
   ]
  },
  {
   "cell_type": "code",
   "execution_count": 4,
   "id": "b9c97efa",
   "metadata": {},
   "outputs": [
    {
     "name": "stdout",
     "output_type": "stream",
     "text": [
      "Lütfen bir sayı giriniz: 98\n",
      "Kullanıcının girdiği değer 98\n"
     ]
    }
   ],
   "source": [
    "a = input(\"Lütfen bir sayı giriniz: \")   #kullanıcıdan aldığımız değer o değişkene eşit olacak\n",
    "print(\"Kullanıcının girdiği değer\",a)"
   ]
  },
  {
   "cell_type": "markdown",
   "id": "192eb10b",
   "metadata": {},
   "source": [
    "Kullanıcının girdiği değer input fonksiyonunda string olarak bize döner"
   ]
  },
  {
   "cell_type": "code",
   "execution_count": 5,
   "id": "5f789207",
   "metadata": {},
   "outputs": [
    {
     "name": "stdout",
     "output_type": "stream",
     "text": [
      "lütfen bir sayı giriniz: 45\n",
      "<class 'str'>\n"
     ]
    }
   ],
   "source": [
    "a = input(\"lütfen bir sayı giriniz: \")\n",
    "print(type(a))"
   ]
  },
  {
   "cell_type": "markdown",
   "id": "4b9c277a",
   "metadata": {},
   "source": [
    "Eğer biz bir sayı ile işlem yapacaksak kullanıcıdan aldığımız değere (stringi) *float* ya da *int* fonksiyonuyla **veripi** dönüştürme işlemini yapmamız gerekir. Çünkü aşağıda olduğu gibi program yanlış çalışacaktır."
   ]
  },
  {
   "cell_type": "code",
   "execution_count": 6,
   "id": "20c21887",
   "metadata": {},
   "outputs": [
    {
     "name": "stdout",
     "output_type": "stream",
     "text": [
      "lütfen bir sayı giriniz: 5.4\n",
      "5.45.45.4\n"
     ]
    }
   ],
   "source": [
    "# Hatalı çalışma\n",
    "\n",
    "a = input(\"lütfen bir sayı giriniz: \")\n",
    "print(a * 3)     #girdiğimiz değer 5.4 ise sonucu 16.2 bekleriz. Ancak sonuç 5.45.45.4 şeklinde ortaya çıkar."
   ]
  },
  {
   "cell_type": "code",
   "execution_count": 7,
   "id": "fcbfa562",
   "metadata": {},
   "outputs": [
    {
     "name": "stdout",
     "output_type": "stream",
     "text": [
      "lütfen bir sayı giriniz: 34\n",
      "102\n"
     ]
    }
   ],
   "source": [
    "# Doğru çalışma\n",
    "\n",
    "a = int(input(\"lütfen bir sayı giriniz: \"))\n",
    "print(a * 3)"
   ]
  },
  {
   "cell_type": "code",
   "execution_count": 8,
   "id": "196f0c0b",
   "metadata": {},
   "outputs": [
    {
     "name": "stdout",
     "output_type": "stream",
     "text": [
      "lütfen bir sayı giriniz: 5.4\n",
      "5.45.45.4\n"
     ]
    }
   ],
   "source": [
    "# Hatalı çalışma\n",
    "\n",
    "a = input(\"lütfen bir sayı giriniz: \")\n",
    "print(a * 3)     #girdiğiniz değer 5.4 ise sonucu 16.2 bekleriz. Ancak sonuç 5.45.45.4 şeklinde ortaya çıkar"
   ]
  },
  {
   "cell_type": "code",
   "execution_count": 9,
   "id": "35c76eb2",
   "metadata": {},
   "outputs": [
    {
     "name": "stdout",
     "output_type": "stream",
     "text": [
      "lütfen bir syı giriniz: 5.4\n",
      "16.200000000000003\n"
     ]
    }
   ],
   "source": [
    "# Doğru çalışma\n",
    "\n",
    "a = float(input(\"lütfen bir syı giriniz: \"))\n",
    "print(a * 3)"
   ]
  },
  {
   "cell_type": "markdown",
   "id": "3712dd25",
   "metadata": {},
   "source": [
    "Bir tane örnek program yazalım"
   ]
  },
  {
   "cell_type": "code",
   "execution_count": 11,
   "id": "f75774a1",
   "metadata": {},
   "outputs": [
    {
     "name": "stdout",
     "output_type": "stream",
     "text": [
      "birinci sayı: 3\n",
      "ikinci sayı: 4\n",
      "üçüncü sayı: 5\n",
      "toplamları:  12\n"
     ]
    }
   ],
   "source": [
    "a = int(input(\"birinci sayı: \"))\n",
    "b = int(input(\"ikinci sayı: \"))\n",
    "c = int(input(\"üçüncü sayı: \"))\n",
    "\n",
    "print(\"toplamları: \", a+b+c)"
   ]
  },
  {
   "cell_type": "markdown",
   "id": "b80a1a99",
   "metadata": {},
   "source": [
    "Peki kullanıcı eğer yanlış girerse nasıl olacak"
   ]
  },
  {
   "cell_type": "code",
   "execution_count": 12,
   "id": "3447e461",
   "metadata": {},
   "outputs": [
    {
     "name": "stdout",
     "output_type": "stream",
     "text": [
      "bir sayı giriniz54fsds65\n"
     ]
    },
    {
     "ename": "ValueError",
     "evalue": "invalid literal for int() with base 10: '54fsds65'",
     "output_type": "error",
     "traceback": [
      "\u001b[1;31m---------------------------------------------------------------------------\u001b[0m",
      "\u001b[1;31mValueError\u001b[0m                                Traceback (most recent call last)",
      "\u001b[1;32m~\\AppData\\Local\\Temp/ipykernel_7060/1948318668.py\u001b[0m in \u001b[0;36m<module>\u001b[1;34m\u001b[0m\n\u001b[1;32m----> 1\u001b[1;33m \u001b[0ma\u001b[0m \u001b[1;33m=\u001b[0m \u001b[0mint\u001b[0m\u001b[1;33m(\u001b[0m\u001b[0minput\u001b[0m\u001b[1;33m(\u001b[0m\u001b[1;34m\"bir sayı giriniz\"\u001b[0m\u001b[1;33m)\u001b[0m\u001b[1;33m)\u001b[0m\u001b[1;33m\u001b[0m\u001b[1;33m\u001b[0m\u001b[0m\n\u001b[0m\u001b[0;32m      2\u001b[0m \u001b[0mprint\u001b[0m\u001b[1;33m(\u001b[0m\u001b[0ma\u001b[0m\u001b[1;33m)\u001b[0m\u001b[1;33m\u001b[0m\u001b[1;33m\u001b[0m\u001b[0m\n",
      "\u001b[1;31mValueError\u001b[0m: invalid literal for int() with base 10: '54fsds65'"
     ]
    }
   ],
   "source": [
    "a = int(input(\"bir sayı giriniz\"))\n",
    "print(a)"
   ]
  },
  {
   "cell_type": "code",
   "execution_count": null,
   "id": "87840538",
   "metadata": {},
   "outputs": [],
   "source": []
  }
 ],
 "metadata": {
  "kernelspec": {
   "display_name": "Python 3 (ipykernel)",
   "language": "python",
   "name": "python3"
  },
  "language_info": {
   "codemirror_mode": {
    "name": "ipython",
    "version": 3
   },
   "file_extension": ".py",
   "mimetype": "text/x-python",
   "name": "python",
   "nbconvert_exporter": "python",
   "pygments_lexer": "ipython3",
   "version": "3.9.7"
  }
 },
 "nbformat": 4,
 "nbformat_minor": 5
}
