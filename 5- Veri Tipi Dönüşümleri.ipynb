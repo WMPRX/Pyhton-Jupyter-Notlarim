{
 "cells": [
  {
   "cell_type": "markdown",
   "id": "98ee4ff4",
   "metadata": {},
   "source": [
    "# Veri Tipi Dönüşümleri\n",
    "\n",
    "Pythonda veri tiplerinin birbirine dönşümü oldukça önemlidir. Bazı zamanlarda tam sayıyı ondalıklı sayıya dönüştürme bazen de stringi tam sayıya dönüştürme işlemleri programımızı yazarken oldukça önem taşır. "
   ]
  },
  {
   "cell_type": "markdown",
   "id": "154ef40d",
   "metadata": {},
   "source": [
    "## Tam Sayıyı Ondalıklı Sayıya Dönüştürme\n",
    "\n",
    "Bir tamsayı değeri (interger) ondalıklı sayı(float) dönüştürmek için **float()** fonksiyonunu kullanabiliriz."
   ]
  },
  {
   "cell_type": "code",
   "execution_count": 1,
   "id": "a617aec0",
   "metadata": {},
   "outputs": [
    {
     "data": {
      "text/plain": [
       "43.0"
      ]
     },
     "execution_count": 1,
     "metadata": {},
     "output_type": "execute_result"
    }
   ],
   "source": [
    "#Çevireceğimiz sayıyı parantez içine atıyoruz.\n",
    "\n",
    "a = 43\n",
    "float(a)"
   ]
  },
  {
   "cell_type": "code",
   "execution_count": 2,
   "id": "505e8282",
   "metadata": {},
   "outputs": [
    {
     "data": {
      "text/plain": [
       "-1.0"
      ]
     },
     "execution_count": 2,
     "metadata": {},
     "output_type": "execute_result"
    }
   ],
   "source": [
    "float(-1)"
   ]
  },
  {
   "cell_type": "code",
   "execution_count": 3,
   "id": "9602f44c",
   "metadata": {},
   "outputs": [
    {
     "data": {
      "text/plain": [
       "9.0"
      ]
     },
     "execution_count": 3,
     "metadata": {},
     "output_type": "execute_result"
    }
   ],
   "source": [
    "float(9)"
   ]
  },
  {
   "cell_type": "markdown",
   "id": "0c1c8679",
   "metadata": {},
   "source": [
    "## Ondalıklı Sayıyı Tam Sayıya Çevirme\n",
    "\n",
    "Bir ondalıklı sayı (float)  tam sayı değeri (interger) dönüştürmek için **int()** fonksiyonunu kullanabiliriz."
   ]
  },
  {
   "cell_type": "code",
   "execution_count": 4,
   "id": "a3657201",
   "metadata": {},
   "outputs": [
    {
     "data": {
      "text/plain": [
       "4"
      ]
     },
     "execution_count": 4,
     "metadata": {},
     "output_type": "execute_result"
    }
   ],
   "source": [
    "int(4.7)"
   ]
  },
  {
   "cell_type": "code",
   "execution_count": 5,
   "id": "6310d52c",
   "metadata": {},
   "outputs": [
    {
     "data": {
      "text/plain": [
       "10"
      ]
     },
     "execution_count": 5,
     "metadata": {},
     "output_type": "execute_result"
    }
   ],
   "source": [
    "int(10.34567)"
   ]
  },
  {
   "cell_type": "code",
   "execution_count": 7,
   "id": "8867fc59",
   "metadata": {},
   "outputs": [
    {
     "data": {
      "text/plain": [
       "2"
      ]
     },
     "execution_count": 7,
     "metadata": {},
     "output_type": "execute_result"
    }
   ],
   "source": [
    "a = 4\n",
    "b = 2\n",
    "\n",
    "int(a/b)"
   ]
  },
  {
   "cell_type": "markdown",
   "id": "680799e6",
   "metadata": {},
   "source": [
    "## Sayıları Stringlere Çevirme\n",
    "\n",
    "Bir sayıyı stringe dönüştürmek için **str()** fonksiyonunu kullanabiliriz."
   ]
  },
  {
   "cell_type": "code",
   "execution_count": 8,
   "id": "03ec6b63",
   "metadata": {},
   "outputs": [
    {
     "data": {
      "text/plain": [
       "'6955'"
      ]
     },
     "execution_count": 8,
     "metadata": {},
     "output_type": "execute_result"
    }
   ],
   "source": [
    "a = 6955\n",
    "b = str(a)\n",
    "\n",
    "b"
   ]
  },
  {
   "cell_type": "code",
   "execution_count": 9,
   "id": "5acfeeed",
   "metadata": {},
   "outputs": [
    {
     "data": {
      "text/plain": [
       "'5858'"
      ]
     },
     "execution_count": 9,
     "metadata": {},
     "output_type": "execute_result"
    }
   ],
   "source": [
    "a = 5858\n",
    "\n",
    "str(a)"
   ]
  },
  {
   "cell_type": "code",
   "execution_count": 10,
   "id": "eabaf666",
   "metadata": {},
   "outputs": [
    {
     "data": {
      "text/plain": [
       "3"
      ]
     },
     "execution_count": 10,
     "metadata": {},
     "output_type": "execute_result"
    }
   ],
   "source": [
    "a = str(345)\n",
    "\n",
    "len(a)          #sayının uzunluğunuda bu şekilde alabiliriz."
   ]
  },
  {
   "cell_type": "code",
   "execution_count": 11,
   "id": "dac6d8fb",
   "metadata": {},
   "outputs": [
    {
     "data": {
      "text/plain": [
       "'3.14'"
      ]
     },
     "execution_count": 11,
     "metadata": {},
     "output_type": "execute_result"
    }
   ],
   "source": [
    "a = str(3.14)\n",
    "\n",
    "a"
   ]
  },
  {
   "cell_type": "markdown",
   "id": "4e9b71fb",
   "metadata": {},
   "source": [
    "## Stringleri Tam Sayıya Çevirme\n",
    "\n",
    "Bir stringi tamsayıya çevirmek için her zaman **int()** fonksiyonunu kullanabiliriz. Ancak biraz dikkatli olmamızda fayda var. Dönüştürme işlemini yaparken strigin her bir karakterinin bir rakam olduğundan emin olmalıyız. Örneklere bakalım;"
   ]
  },
  {
   "cell_type": "code",
   "execution_count": 12,
   "id": "06d833ae",
   "metadata": {},
   "outputs": [
    {
     "data": {
      "text/plain": [
       "5847490"
      ]
     },
     "execution_count": 12,
     "metadata": {},
     "output_type": "execute_result"
    }
   ],
   "source": [
    "#Doğru\n",
    "a = \"5847490\"\n",
    "b = int(a)\n",
    "b"
   ]
  },
  {
   "cell_type": "code",
   "execution_count": 13,
   "id": "9557d0fe",
   "metadata": {},
   "outputs": [
    {
     "ename": "ValueError",
     "evalue": "invalid literal for int() with base 10: 'dknj493la03'",
     "output_type": "error",
     "traceback": [
      "\u001b[1;31m---------------------------------------------------------------------------\u001b[0m",
      "\u001b[1;31mValueError\u001b[0m                                Traceback (most recent call last)",
      "\u001b[1;32m~\\AppData\\Local\\Temp/ipykernel_8436/84812856.py\u001b[0m in \u001b[0;36m<module>\u001b[1;34m\u001b[0m\n\u001b[0;32m      2\u001b[0m \u001b[1;33m\u001b[0m\u001b[0m\n\u001b[0;32m      3\u001b[0m \u001b[0ma\u001b[0m \u001b[1;33m=\u001b[0m \u001b[1;34m\"dknj493la03\"\u001b[0m\u001b[1;33m\u001b[0m\u001b[1;33m\u001b[0m\u001b[0m\n\u001b[1;32m----> 4\u001b[1;33m \u001b[0mb\u001b[0m \u001b[1;33m=\u001b[0m \u001b[0mint\u001b[0m\u001b[1;33m(\u001b[0m\u001b[0ma\u001b[0m\u001b[1;33m)\u001b[0m\u001b[1;33m\u001b[0m\u001b[1;33m\u001b[0m\u001b[0m\n\u001b[0m\u001b[0;32m      5\u001b[0m \u001b[1;33m\u001b[0m\u001b[0m\n",
      "\u001b[1;31mValueError\u001b[0m: invalid literal for int() with base 10: 'dknj493la03'"
     ]
    }
   ],
   "source": [
    "#Hatalı - Her bir karakterin 10'luk tabanda olması gerekir.\n",
    "\n",
    "a = \"dknj493la03\"\n",
    "b = int(a)\n",
    "\n"
   ]
  },
  {
   "cell_type": "markdown",
   "id": "e90de8a4",
   "metadata": {},
   "source": [
    "## Stringleri Ondalıklı Sayıya Çevirme\n",
    "\n",
    "Bir stringi ondalıklı sayıya dönüştürmek istersek eğer **float()** fonksiyonunu kullanabiliriz. Dönüştürme işlemi yaparken stringin mutlaka sayı şeklinde olması gereklidir."
   ]
  },
  {
   "cell_type": "code",
   "execution_count": 14,
   "id": "f28347ab",
   "metadata": {},
   "outputs": [
    {
     "data": {
      "text/plain": [
       "3.2445"
      ]
     },
     "execution_count": 14,
     "metadata": {},
     "output_type": "execute_result"
    }
   ],
   "source": [
    "#Doğru kod\n",
    "\n",
    "a = \"3.2445\"\n",
    "b = float(a)"
   ]
  },
  {
   "cell_type": "code",
   "execution_count": null,
   "id": "ef50a1be",
   "metadata": {},
   "outputs": [],
   "source": [
    "a = \"7.545\"\n",
    "float(a)"
   ]
  },
  {
   "cell_type": "code",
   "execution_count": 16,
   "id": "0616e004",
   "metadata": {},
   "outputs": [
    {
     "ename": "ValueError",
     "evalue": "could not convert string to float: '3.13,54654'",
     "output_type": "error",
     "traceback": [
      "\u001b[1;31m---------------------------------------------------------------------------\u001b[0m",
      "\u001b[1;31mValueError\u001b[0m                                Traceback (most recent call last)",
      "\u001b[1;32m~\\AppData\\Local\\Temp/ipykernel_8436/1778647047.py\u001b[0m in \u001b[0;36m<module>\u001b[1;34m\u001b[0m\n\u001b[0;32m      2\u001b[0m \u001b[1;33m\u001b[0m\u001b[0m\n\u001b[0;32m      3\u001b[0m \u001b[0ma\u001b[0m \u001b[1;33m=\u001b[0m \u001b[1;34m\"3.13,54654\"\u001b[0m\u001b[1;33m\u001b[0m\u001b[1;33m\u001b[0m\u001b[0m\n\u001b[1;32m----> 4\u001b[1;33m \u001b[0mfloat\u001b[0m\u001b[1;33m(\u001b[0m\u001b[0ma\u001b[0m\u001b[1;33m)\u001b[0m\u001b[1;33m\u001b[0m\u001b[1;33m\u001b[0m\u001b[0m\n\u001b[0m",
      "\u001b[1;31mValueError\u001b[0m: could not convert string to float: '3.13,54654'"
     ]
    }
   ],
   "source": [
    "#Hatalı kod\n",
    "\n",
    "a = \"3.13.54654\"\n",
    "float(a)"
   ]
  },
  {
   "cell_type": "code",
   "execution_count": null,
   "id": "0d695750",
   "metadata": {},
   "outputs": [],
   "source": []
  }
 ],
 "metadata": {
  "kernelspec": {
   "display_name": "Python 3 (ipykernel)",
   "language": "python",
   "name": "python3"
  },
  "language_info": {
   "codemirror_mode": {
    "name": "ipython",
    "version": 3
   },
   "file_extension": ".py",
   "mimetype": "text/x-python",
   "name": "python",
   "nbconvert_exporter": "python",
   "pygments_lexer": "ipython3",
   "version": "3.9.7"
  }
 },
 "nbformat": 4,
 "nbformat_minor": 5
}
