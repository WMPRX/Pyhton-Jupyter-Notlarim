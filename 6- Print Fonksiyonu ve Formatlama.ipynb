{
 "cells": [
  {
   "cell_type": "markdown",
   "id": "94a59b65",
   "metadata": {},
   "source": [
    "# Print Fonksiyonu ve Formatlama\n",
    "\n",
    "Bu bölümde ekrana yazdırama fonsiyonu olan print() fonsiyonunu ve formatlama işlemlerini göreceğiz."
   ]
  },
  {
   "cell_type": "markdown",
   "id": "4570435d",
   "metadata": {},
   "source": [
    "## Print() Fonsiyonu\n",
    "\n",
    "Kodları dosyalara yazdığımızda, eğer ekrana bir değer bastırmak istersek *print* fonsiyonunu kullanırız. Kullanımı oldukça bsittir ve çeşitli özelliklere sahiptir. Örnek;"
   ]
  },
  {
   "cell_type": "code",
   "execution_count": 1,
   "id": "870527d7",
   "metadata": {},
   "outputs": [
    {
     "name": "stdout",
     "output_type": "stream",
     "text": [
      "34\n"
     ]
    }
   ],
   "source": [
    "print(34)"
   ]
  },
  {
   "cell_type": "code",
   "execution_count": 2,
   "id": "5c10aac8",
   "metadata": {},
   "outputs": [
    {
     "name": "stdout",
     "output_type": "stream",
     "text": [
      "3.2\n"
     ]
    }
   ],
   "source": [
    "print(3.2)"
   ]
  },
  {
   "cell_type": "code",
   "execution_count": 3,
   "id": "7363b6fd",
   "metadata": {},
   "outputs": [
    {
     "name": "stdout",
     "output_type": "stream",
     "text": [
      "9\n"
     ]
    }
   ],
   "source": [
    "a = 5\n",
    "b = 4\n",
    "\n",
    "print(a + b)"
   ]
  },
  {
   "cell_type": "code",
   "execution_count": 4,
   "id": "0ba0cf80",
   "metadata": {},
   "outputs": [
    {
     "name": "stdout",
     "output_type": "stream",
     "text": [
      "Mehmet Akın\n"
     ]
    }
   ],
   "source": [
    "print(\"Mehmet Akın\")"
   ]
  },
  {
   "cell_type": "code",
   "execution_count": 5,
   "id": "bb19a888",
   "metadata": {},
   "outputs": [
    {
     "name": "stdout",
     "output_type": "stream",
     "text": [
      "Mehmet'in bugün dersi var..\n"
     ]
    }
   ],
   "source": [
    "print(\"Mehmet'in bugün dersi var..\")"
   ]
  },
  {
   "cell_type": "code",
   "execution_count": 6,
   "id": "02f067a0",
   "metadata": {},
   "outputs": [
    {
     "name": "stdout",
     "output_type": "stream",
     "text": [
      "3 5.7 Mehmet\n"
     ]
    }
   ],
   "source": [
    "print(3, 5.7, \"Mehmet\")    #birden fazla değeri tek bir ekrana yazdırmak için virgül kullanabiliriz."
   ]
  },
  {
   "cell_type": "markdown",
   "id": "bdbcb9d5",
   "metadata": {},
   "source": [
    "## Stringlerdeki Özel Karakterler\n",
    "\n",
    "Pythonda stringlerde işimizi kolaylştıracak özel karakterler mevcuttur. En çok kullanılan 2 tanesi şunlardır;"
   ]
  },
  {
   "cell_type": "markdown",
   "id": "25e28942",
   "metadata": {},
   "source": [
    "### \\n karakteri\n",
    "\n",
    "Eğer stringlerde böyle bir karakter ile karşılaşılırsa alt satırdan yazdırma işlemine devam eder. Örnekler;"
   ]
  },
  {
   "cell_type": "code",
   "execution_count": 7,
   "id": "d81554c6",
   "metadata": {},
   "outputs": [
    {
     "name": "stdout",
     "output_type": "stream",
     "text": [
      "Merhaba\n",
      "Nasılsın\n",
      "İyimisin\n"
     ]
    }
   ],
   "source": [
    "print(\"Merhaba\\nNasılsın\\nİyimisin\")"
   ]
  },
  {
   "cell_type": "code",
   "execution_count": 8,
   "id": "725e2701",
   "metadata": {},
   "outputs": [
    {
     "name": "stdout",
     "output_type": "stream",
     "text": [
      "Selam\n",
      "Nasılsın\n"
     ]
    }
   ],
   "source": [
    "print(\"Selam\\nNasılsın\")"
   ]
  },
  {
   "cell_type": "markdown",
   "id": "a9d630ea",
   "metadata": {},
   "source": [
    "### \\t karakteri\n",
    "\n",
    "Eğer print fonksiyonu stringlerde böyle bir karakter ile karşılaşırsa tab boşluk bırakarak yazdırma işlemine devam eder. Örnekler"
   ]
  },
  {
   "cell_type": "code",
   "execution_count": 9,
   "id": "5913e534",
   "metadata": {},
   "outputs": [
    {
     "name": "stdout",
     "output_type": "stream",
     "text": [
      "Ocak\tŞubat\tMart\n"
     ]
    }
   ],
   "source": [
    "print(\"Ocak\\tŞubat\\tMart\")"
   ]
  },
  {
   "cell_type": "code",
   "execution_count": 10,
   "id": "593b4c91",
   "metadata": {},
   "outputs": [
    {
     "name": "stdout",
     "output_type": "stream",
     "text": [
      "a\t\t\t\t\tb\n"
     ]
    }
   ],
   "source": [
    "print(\"a\\t\\t\\t\\t\\tb\")"
   ]
  },
  {
   "cell_type": "markdown",
   "id": "dfc7c761",
   "metadata": {},
   "source": [
    "## type() Fonksiyonu\n",
    "\n",
    "type fonsiyonu göndrilen değerin hangi veri tipinden olduğunu göstermeye yarar."
   ]
  },
  {
   "cell_type": "code",
   "execution_count": 12,
   "id": "ebfbfaf3",
   "metadata": {},
   "outputs": [
    {
     "name": "stdout",
     "output_type": "stream",
     "text": [
      "<class 'int'>\n"
     ]
    }
   ],
   "source": [
    "#İnterger (Tam sayı) Türü - int()\n",
    "\n",
    "a = 65\n",
    "print(type(a))"
   ]
  },
  {
   "cell_type": "code",
   "execution_count": 13,
   "id": "0303e533",
   "metadata": {},
   "outputs": [
    {
     "name": "stdout",
     "output_type": "stream",
     "text": [
      "<class 'float'>\n"
     ]
    }
   ],
   "source": [
    "#Float (ondalıklı sayı) Türü - float()\n",
    "\n",
    "a = 7.5\n",
    "print(type(a))"
   ]
  },
  {
   "cell_type": "code",
   "execution_count": 15,
   "id": "eef979b1",
   "metadata": {},
   "outputs": [
    {
     "name": "stdout",
     "output_type": "stream",
     "text": [
      "<class 'str'>\n"
     ]
    }
   ],
   "source": [
    "#Strng (karakter dizisi) türü - str()\n",
    "\n",
    "a = \"Merhaba\"\n",
    "print(type(a))"
   ]
  },
  {
   "cell_type": "markdown",
   "id": "090e8950",
   "metadata": {},
   "source": [
    "## Print Fonsiyonunun Özellikleri\n",
    "\n",
    "Ekrana yazdırma işlemi sırasında print() fonsiyonunun faydalı özelliklerini kullanırsak yazdığımız kodu daha verimli kılabiliriz. Bunun için 2 tane özellikten bahsedeceğiz."
   ]
  },
  {
   "cell_type": "markdown",
   "id": "ec55ef20",
   "metadata": {},
   "source": [
    "### Sep Parametresi\n",
    "\n",
    "print() fonksiyonunda kullanılan sep parametresi yazdığımız değerlerin arasında istediğimiz karakterlerin yerleştirilmesini sağlar. Eğer bu fonksiyonu kullanmazsak karakterlerin arasında boşluk bırakacağını biliyoruz. Örnek;"
   ]
  },
  {
   "cell_type": "code",
   "execution_count": 16,
   "id": "8656b4ee",
   "metadata": {},
   "outputs": [
    {
     "name": "stdout",
     "output_type": "stream",
     "text": [
      "3 4 5 6 7 8\n"
     ]
    }
   ],
   "source": [
    "print(3,4,5,6,7,8)"
   ]
  },
  {
   "cell_type": "code",
   "execution_count": 17,
   "id": "89ef6231",
   "metadata": {},
   "outputs": [
    {
     "name": "stdout",
     "output_type": "stream",
     "text": [
      "3.4.5.6.7.8\n"
     ]
    }
   ],
   "source": [
    "#sep parametresi sayesinde sayıların arasında nokta işareti konulur.\n",
    "\n",
    "print(3,4,5,6,7,8, sep = \".\")"
   ]
  },
  {
   "cell_type": "code",
   "execution_count": 18,
   "id": "75b02f70",
   "metadata": {},
   "outputs": [
    {
     "name": "stdout",
     "output_type": "stream",
     "text": [
      "3/4/5/6/7/8\n"
     ]
    }
   ],
   "source": [
    "#Değerlerinm arasında / sembolu yerleştirmek için\n",
    "\n",
    "print(3,4,5,6,7,8, sep=\"/\")"
   ]
  },
  {
   "cell_type": "code",
   "execution_count": 19,
   "id": "23148ec8",
   "metadata": {},
   "outputs": [
    {
     "name": "stdout",
     "output_type": "stream",
     "text": [
      "mehmet\n",
      "akın\n",
      "29\n"
     ]
    }
   ],
   "source": [
    "#değerlerin arasında \\n sembolu ile alt alta boşluk bırakma\n",
    "\n",
    "print(\"mehmet\", \"akın\", \"29\", sep = \"\\n\")"
   ]
  },
  {
   "cell_type": "markdown",
   "id": "cf7290ee",
   "metadata": {},
   "source": [
    "### Yıldızlı Parametreler\n",
    "\n",
    "Eğer bir stringin başına * işareti koyup, print fonsiyonuna gönderirsek bu string karakterine ayrılacak ve her bir karakter ayrı bir string olarak davranılarak ekrana basılacaktır."
   ]
  },
  {
   "cell_type": "code",
   "execution_count": 20,
   "id": "8687d745",
   "metadata": {},
   "outputs": [
    {
     "name": "stdout",
     "output_type": "stream",
     "text": [
      "P y t h o n\n"
     ]
    }
   ],
   "source": [
    "#Varsayılan olarak karakterlerin arasına boşluk konuluyor.\n",
    "\n",
    "print(*\"Python\")"
   ]
  },
  {
   "cell_type": "code",
   "execution_count": 21,
   "id": "3c61b689",
   "metadata": {},
   "outputs": [
    {
     "name": "stdout",
     "output_type": "stream",
     "text": [
      "P\n",
      "y\n",
      "t\n",
      "h\n",
      "o\n",
      "n\n"
     ]
    }
   ],
   "source": [
    "print(*\"Python\", sep = \"\\n\")"
   ]
  },
  {
   "cell_type": "code",
   "execution_count": 22,
   "id": "039c1f2d",
   "metadata": {},
   "outputs": [
    {
     "name": "stdout",
     "output_type": "stream",
     "text": [
      "T.B.M.M\n"
     ]
    }
   ],
   "source": [
    "print(*\"TBMM\", sep = \".\")"
   ]
  },
  {
   "cell_type": "markdown",
   "id": "1b20d351",
   "metadata": {},
   "source": [
    "# Formatlama\n",
    "\n",
    "Programlama yaparken bazı yerlerde bir stringin içinde daha önceden tanımlı string, float, integer. v.b... değerleri yerleştirmek isteyebiliriz. Böyle durumlar için pyhtonda **format()** fonksiyonu bulunmaktadır. Örneğin; Programımızda 3 tane tamsayı değerimiz var ve biz bunları string içinde print fonksiyonu ile basmak istiyoruz. Bunun için format() fonksiyonunu kullanabiliriz. *format()* fonksiyonunun çok fazla özelliği olduğu için sadece en çok kullanılan özelliklerine bakacağız."
   ]
  },
  {
   "cell_type": "code",
   "execution_count": 23,
   "id": "ae571354",
   "metadata": {},
   "outputs": [
    {
     "data": {
      "text/plain": [
       "'3.5 6.73 7.958'"
      ]
     },
     "execution_count": 23,
     "metadata": {},
     "output_type": "execute_result"
    }
   ],
   "source": [
    "#Burada uç tane süsülü parantezimiz ({}) var ve bunların yerine sırasıyla format fonksiyonun içindeki değerler geçiyor.\n",
    "\n",
    "\"{} {} {}\".format(3.5, 6.73, 7.958)"
   ]
  },
  {
   "cell_type": "code",
   "execution_count": 25,
   "id": "394c3263",
   "metadata": {},
   "outputs": [
    {
     "name": "stdout",
     "output_type": "stream",
     "text": [
      "3 + 4'nin toplamı 7'dir\n"
     ]
    }
   ],
   "source": [
    "a = 3\n",
    "b = 4\n",
    "\n",
    "print(\"{} + {}'nin toplamı {}'dir\".format(a,b,a+b))"
   ]
  },
  {
   "cell_type": "code",
   "execution_count": 29,
   "id": "5cf47df2",
   "metadata": {},
   "outputs": [
    {
     "data": {
      "text/plain": [
       "'Mehmet 43 56'"
      ]
     },
     "execution_count": 29,
     "metadata": {},
     "output_type": "execute_result"
    }
   ],
   "source": [
    "# Süslü parantezlerin içerisindeki sayılar format fonksiyonunun içinden hangi sıradaki değerin geleceğini söylüyor.\n",
    "\n",
    "\"{1} {0} {2}\".format(43,\"Mehmet\",56)"
   ]
  },
  {
   "cell_type": "code",
   "execution_count": 32,
   "id": "26bafc6d",
   "metadata": {},
   "outputs": [
    {
     "data": {
      "text/plain": [
       "'3.15 6.86432 9.6'"
      ]
     },
     "execution_count": 32,
     "metadata": {},
     "output_type": "execute_result"
    }
   ],
   "source": [
    "# Süslü parantezlerin içindeki kullanılan ondalıklı kısım sadece 2 basamağına kadar almak istediğimizi söylüyor.\n",
    "\n",
    "\"{:.2f} {:.5f} {:.1f}\".format(3.15356, 6.86432, 9.5678334)"
   ]
  },
  {
   "cell_type": "markdown",
   "id": "b120ad87",
   "metadata": {},
   "source": [
    "https://pyformat.info   sitesinden daha fazla format özelliklerne ulaşabiliriz. "
   ]
  },
  {
   "cell_type": "code",
   "execution_count": null,
   "id": "80a591cf",
   "metadata": {},
   "outputs": [],
   "source": []
  }
 ],
 "metadata": {
  "kernelspec": {
   "display_name": "Python 3 (ipykernel)",
   "language": "python",
   "name": "python3"
  },
  "language_info": {
   "codemirror_mode": {
    "name": "ipython",
    "version": 3
   },
   "file_extension": ".py",
   "mimetype": "text/x-python",
   "name": "python",
   "nbconvert_exporter": "python",
   "pygments_lexer": "ipython3",
   "version": "3.9.7"
  }
 },
 "nbformat": 4,
 "nbformat_minor": 5
}
