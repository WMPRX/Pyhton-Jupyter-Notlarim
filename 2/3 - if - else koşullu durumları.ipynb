{
 "cells": [
  {
   "cell_type": "markdown",
   "id": "aa911ca7",
   "metadata": {},
   "source": [
    "# Koşullu Durumlar - İf else koşullu durumları\n",
    "\n",
    "Şimdiye kadar pyhtondaki temel veritiplerini öğrendik ve gereki temelleri aldık. Bundan sonra programlar yazmaya başlayacağız. Bu konuda ilk olarak Pyhthon programlarının çalışma mantığını göreceğiz ve daha sonrasında koşullu durumları anlamaya başlayacağız.\n",
    "\n",
    "## Python Progamlanın Çalışma Mantığı\n",
    "\n",
    "Pyhton kodları çalışamaya başladığı zaman kodlarımız yukarıdan aşağıya doğru teker teker çalıştırılır. Çalışacak kod kalmayana kadar çalışmaya devam eder.Şöyle bir örneğe bakalım."
   ]
  },
  {
   "cell_type": "code",
   "execution_count": 1,
   "id": "d8b3513a",
   "metadata": {},
   "outputs": [
    {
     "name": "stdout",
     "output_type": "stream",
     "text": [
      "18\n"
     ]
    }
   ],
   "source": [
    "a = 5\n",
    "b = 9\n",
    "c = 4\n",
    "print(a+b+c)"
   ]
  },
  {
   "cell_type": "markdown",
   "id": "0c84e876",
   "metadata": {},
   "source": [
    "Yukarıdaki basit kodda program teker teker her satırı ve ifadeyi çalıştırıri, çalışacak kod kalmayana kadar çalışmaya devam eder. Ancak Pyhtonda her program bu kadar basit olmayabilir. Çoğu zaman Python programlarımız belirli bloklardan oluşur ve bu bloklar her zaman çalışmak zorunda olmaz. Peki bu bloklar nasıl tanımlanır. Pyhtonda bir blok tanımlama işlemi **Girintiler** sayesinde olmaktadır. Örnek olması açısından bloklar şu şekilde oluşabilir. "
   ]
  },
  {
   "cell_type": "code",
   "execution_count": 2,
   "id": "f249264e",
   "metadata": {},
   "outputs": [
    {
     "name": "stdout",
     "output_type": "stream",
     "text": [
      "2\n",
      "Merhaba\n"
     ]
    }
   ],
   "source": [
    "a = 2  # Blok 1 e ait kod\n",
    "\n",
    "if (a == 2):\n",
    "    print(a)   # blok 2 ye ait kod\n",
    "print(\"Merhaba\")    #blok 1 e ait kod\n",
    "    "
   ]
  },
  {
   "cell_type": "markdown",
   "id": "9d3c12ce",
   "metadata": {},
   "source": [
    "Dikkat ederseniz burada daha önce görmediğimiz bir şey yaptık ve **if** in bulunduğu satırdan sonraki **print** işlemini bir tab kadar girintili yazdık. Burada gördüğümüz gibi **girintiler(tab)** Pythonda bir blok oluşturulmak için kullanılıyor ve her bloğun çalıştırılması gerekmiyor. Mesela yukarıda gördüğümüz 2 print işlemi de çalıştı. Ancak kodumuzu şu şekilde yazsaydık ilk print işlemi çalışmayacaktı."
   ]
  },
  {
   "cell_type": "code",
   "execution_count": 4,
   "id": "623e1f7d",
   "metadata": {},
   "outputs": [
    {
     "name": "stdout",
     "output_type": "stream",
     "text": [
      "Merhaba\n"
     ]
    }
   ],
   "source": [
    "a = 2     # blok 1 e ait kod\n",
    "\n",
    "if (a == 3):\n",
    "    print(a)     #blok 2 ye ait kod\n",
    "print(\"Merhaba\")"
   ]
  },
  {
   "cell_type": "markdown",
   "id": "d16a5b97",
   "metadata": {},
   "source": [
    "## Koşullu Durumlar\n",
    "\n",
    "Artık Pythonda bizi ileri seviyeye taşıyacak koşullu durumları öğrenmenin zamanı geldi.\n",
    "\n",
    "Koşullu durumlar aslında günlük hayatta karşımıza sürekli çıkan durumlardır. Örneğin havanın yağmurlu olma koşuluna göre şemsiyemizi alırız veya uykumuzun gelme durumuna göre uyuruz. Aslında programlamada birçok koşullu durumla karşılaşırız. Örneğin; belli koşullara göre belli işlemleri yaparı, belli koşullara göre de yapmayız. İşte bunlar koşullu durumların temelini oluşturur. Koşullu durumlara **if** ile başlayabiliriz."
   ]
  },
  {
   "cell_type": "markdown",
   "id": "a2ce5efb",
   "metadata": {},
   "source": [
    "                 if (koşul):\n",
    "                     #if bloğu - Koşul sağlanınca (True) çalışır. Bu hizadaki her işlem bu if bloğuna ait.\n",
    "                     # if bloğu   Girintiyle oluştulur\n",
    "                     Yapılacak işlemler\n",
    "                     \n",
    "**if** bloğu eğer koşul sağlanırsa anlamı taşır. Eğer if bloğundaki koşul sağlanırsa (True) if bloğu çalıştırılır, koşul sağlanmazsa (False) if bloğu çalıştırılmaz. \n",
    "\n",
    "Hemen bir örnek ile koşullu durumları anlamaya çalışalım."
   ]
  },
  {
   "cell_type": "code",
   "execution_count": 6,
   "id": "5a58f0e7",
   "metadata": {},
   "outputs": [
    {
     "name": "stdout",
     "output_type": "stream",
     "text": [
      "Yaşınızı giriniz: 15\n",
      "Mekana giremezsiniz....\n"
     ]
    }
   ],
   "source": [
    "# 18 yaş kontrolü\n",
    "\n",
    "yas = int(input(\"Yaşınızı giriniz: \"))\n",
    "\n",
    "if (yas < 18):\n",
    "    #if bloğu girinti ile sağlanıyor\n",
    "    print(\"Mekana giremezsiniz....\")"
   ]
  },
  {
   "cell_type": "code",
   "execution_count": 8,
   "id": "7a4de424",
   "metadata": {},
   "outputs": [
    {
     "name": "stdout",
     "output_type": "stream",
     "text": [
      "Yaşınızı giriniz: 98\n"
     ]
    }
   ],
   "source": [
    "# 18 yaş kontrolü\n",
    "\n",
    "yas = int(input(\"Yaşınızı giriniz: \"))\n",
    "\n",
    "if (yas < 18):\n",
    "    #if bloğu girinti ile sağlanıyor\n",
    "    print(\"Mekana giremezsiniz....\")\n",
    "    \n",
    "    #görüldüğü gibi ekrana bir şey yazdırmadı. Bunun için else fonksiyonuna bakacağız. Veya aşağıdaki yöntemi uygulayabiliriz.\n"
   ]
  },
  {
   "cell_type": "code",
   "execution_count": 14,
   "id": "d55e8c44",
   "metadata": {},
   "outputs": [
    {
     "name": "stdout",
     "output_type": "stream",
     "text": [
      "Yaşınızı giriniz: 78\n",
      "Mekana hoşgeldiniz..\n"
     ]
    }
   ],
   "source": [
    "# 18 yaş kontrolü\n",
    "\n",
    "yas = int(input(\"Yaşınızı giriniz: \"))\n",
    "\n",
    "if (yas < 18):\n",
    "    print(\"Mekana giremezsiniz..\")\n",
    "if (yas > 18):\n",
    "    print(\"Mekana hoşgeldiniz..\")\n",
    "    \n",
    "    #görüldüğü gibi ekrana bir şey yazdırmadı. Bunun için else fonksiyonuna bakacağız."
   ]
  },
  {
   "cell_type": "markdown",
   "id": "1cc1ccd3",
   "metadata": {},
   "source": [
    "## else bloğu\n",
    "\n",
    "else blokları if koşulu sağlanmadığı zaman (False) çalışan bloklardır. Kullanımı şu şekildedir.\n",
    "\n",
    "             else (koşul):\n",
    "                 #else bloğu - yukarısında herhangi bir if bloğu (veya ileride göreceğimiz elif bloğu) çalışmadığı zaman                          çalışır.\n",
    "                 # else bloğu girintiyle oluşturulur\n",
    "                 Yapılacak işlemler\n",
    "                 \n",
    "Dikkat ederseniz burada **else** koşulunun yanına herhangi bir koşul yazmadık. Çünkü zaten **else** bloğunun çalışması ondan önce gelen diğer koşulların sağlanmamasına bağlı oluyor. İsterseniz, **18 yaş kontrolü** örneği **else** bloğunu dahil ederek tekrar yazalım."
   ]
  },
  {
   "cell_type": "code",
   "execution_count": 17,
   "id": "a6439861",
   "metadata": {},
   "outputs": [
    {
     "name": "stdout",
     "output_type": "stream",
     "text": [
      "Yaşınızı giriniz: 18\n",
      "Mekana hoşgeldiniz..\n"
     ]
    }
   ],
   "source": [
    "# 18 yaş kontrolü\n",
    "\n",
    "yas = int(input(\"Yaşınızı giriniz: \"))\n",
    "\n",
    "if (yas < 18):\n",
    "    print(\"Mekana giremezsiniz..\")\n",
    "else:\n",
    "    print(\"Mekana hoşgeldiniz..\")"
   ]
  },
  {
   "cell_type": "code",
   "execution_count": 18,
   "id": "c06b6bed",
   "metadata": {},
   "outputs": [
    {
     "name": "stdout",
     "output_type": "stream",
     "text": [
      "Sayı1: 2\n",
      "Sıfır veya Pozitif bir sayı...\n"
     ]
    }
   ],
   "source": [
    "# Başka bir örnek\n",
    "\n",
    "sayı = int(input(\"Sayı1: \"))\n",
    "\n",
    "if (sayı <0):\n",
    "    print(\"Negatif sayı\")\n",
    "else:\n",
    "    print(\"Sıfır veya Pozitif bir sayı...\")"
   ]
  },
  {
   "cell_type": "code",
   "execution_count": 19,
   "id": "14ffd24a",
   "metadata": {},
   "outputs": [
    {
     "name": "stdout",
     "output_type": "stream",
     "text": [
      "Sayı1: -1\n",
      "Negatif sayı\n"
     ]
    }
   ],
   "source": [
    "sayı = int(input(\"Sayı1: \"))\n",
    "\n",
    "if (sayı <0):\n",
    "    print(\"Negatif sayı\")\n",
    "else:\n",
    "    print(\"Sıfır veya Pozitif bir sayı...\")"
   ]
  },
  {
   "cell_type": "code",
   "execution_count": null,
   "id": "9563bf69",
   "metadata": {},
   "outputs": [],
   "source": []
  }
 ],
 "metadata": {
  "kernelspec": {
   "display_name": "Python 3 (ipykernel)",
   "language": "python",
   "name": "python3"
  },
  "language_info": {
   "codemirror_mode": {
    "name": "ipython",
    "version": 3
   },
   "file_extension": ".py",
   "mimetype": "text/x-python",
   "name": "python",
   "nbconvert_exporter": "python",
   "pygments_lexer": "ipython3",
   "version": "3.9.7"
  }
 },
 "nbformat": 4,
 "nbformat_minor": 5
}
