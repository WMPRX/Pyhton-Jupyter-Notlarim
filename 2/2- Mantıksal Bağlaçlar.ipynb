{
 "cells": [
  {
   "cell_type": "markdown",
   "id": "db9ac17f",
   "metadata": {},
   "source": [
    "# Mantıksal Bağlaçlar\n",
    "\n",
    "Mantıksal bağlaçlar daha çok karşılaştırma işlemini kontrol ettiğimiz zamanlarda kullanılır. Bu konuda bunları öğrenmeye çalışacağız.\n",
    "\n",
    "## and Oparatörü\n",
    "\n",
    "Bu mantıksal bağlaç, bütün karşılaştırma işlemlerinin sonucunun **True** olmasına bakar. Bağlanan karşılaştırma işlemlerinin hepsinin kendi içinde sonucu **True** ise genel sonuç **True**, diğer durumlarda ise **False** çıkar."
   ]
  },
  {
   "cell_type": "code",
   "execution_count": 1,
   "id": "6aeca4c8",
   "metadata": {},
   "outputs": [
    {
     "data": {
      "text/plain": [
       "True"
      ]
     },
     "execution_count": 1,
     "metadata": {},
     "output_type": "execute_result"
    }
   ],
   "source": [
    "1 < 2 and \"Murat\" == \"Murat\""
   ]
  },
  {
   "cell_type": "code",
   "execution_count": 2,
   "id": "5411fabc",
   "metadata": {},
   "outputs": [
    {
     "data": {
      "text/plain": [
       "False"
      ]
     },
     "execution_count": 2,
     "metadata": {},
     "output_type": "execute_result"
    }
   ],
   "source": [
    "2 > 3 and \"Murat\" == \"Murat\""
   ]
  },
  {
   "cell_type": "code",
   "execution_count": 3,
   "id": "26318d42",
   "metadata": {},
   "outputs": [
    {
     "data": {
      "text/plain": [
       "False"
      ]
     },
     "execution_count": 3,
     "metadata": {},
     "output_type": "execute_result"
    }
   ],
   "source": [
    "2 == 2 and 3.4 < 2.54 and \"Elma\" != \"Armut\""
   ]
  },
  {
   "cell_type": "markdown",
   "id": "0be81715",
   "metadata": {},
   "source": [
    "İşlemlerin birinin bile sonucu **False** ise genel işlemin sonucu **False** olarak çıkmaktadır."
   ]
  },
  {
   "cell_type": "markdown",
   "id": "df26b313",
   "metadata": {},
   "source": [
    "## or Operatörü\n",
    "\n",
    "Bu mantıksal bağlaç, bütün karşılaştırma işlemlerinin sonuçlarından **en az birinin True** olmasına bakar. Bağlanan karşılaştırma işlemlerinin **en az birinin True** olmasında genel sonuç **True** , diğer durumlarda ise sonuç **False** çıkar."
   ]
  },
  {
   "cell_type": "code",
   "execution_count": 4,
   "id": "65d0648b",
   "metadata": {},
   "outputs": [
    {
     "data": {
      "text/plain": [
       "True"
      ]
     },
     "execution_count": 4,
     "metadata": {},
     "output_type": "execute_result"
    }
   ],
   "source": [
    "1 < 2 or \"Murat\" != \"Murat\""
   ]
  },
  {
   "cell_type": "code",
   "execution_count": 5,
   "id": "ad89a8be",
   "metadata": {},
   "outputs": [
    {
     "data": {
      "text/plain": [
       "False"
      ]
     },
     "execution_count": 5,
     "metadata": {},
     "output_type": "execute_result"
    }
   ],
   "source": [
    "2 > 3 or \"Murat\" != \"Murat\""
   ]
  },
  {
   "cell_type": "code",
   "execution_count": 6,
   "id": "c45aa116",
   "metadata": {},
   "outputs": [
    {
     "data": {
      "text/plain": [
       "True"
      ]
     },
     "execution_count": 6,
     "metadata": {},
     "output_type": "execute_result"
    }
   ],
   "source": [
    "2 > 3 or \"Murat\" != \"Murat\" or 3.14 < 4.34"
   ]
  },
  {
   "cell_type": "markdown",
   "id": "38266eb3",
   "metadata": {},
   "source": [
    "## not Operatörü \n",
    "\n",
    "*not* operatörü aslında bir mantıksal bağlaç değildir. Bu operatör sadece bir mantıksal değeri veya karşılaştırma işleminin tam tersi sonuca çevirir. Yani, not operatörü **True** olan bir sonucu **False**, **False** olan bir sonucu **True** sonucuna çevirir. Kullanımı şu şekildedir. "
   ]
  },
  {
   "cell_type": "code",
   "execution_count": 7,
   "id": "1dc4dc81",
   "metadata": {},
   "outputs": [
    {
     "data": {
      "text/plain": [
       "False"
      ]
     },
     "execution_count": 7,
     "metadata": {},
     "output_type": "execute_result"
    }
   ],
   "source": [
    "not 2 == 2 "
   ]
  },
  {
   "cell_type": "code",
   "execution_count": 9,
   "id": "663e1a78",
   "metadata": {},
   "outputs": [
    {
     "data": {
      "text/plain": [
       "True"
      ]
     },
     "execution_count": 9,
     "metadata": {},
     "output_type": "execute_result"
    }
   ],
   "source": [
    "not \"Python\" == \"Php\""
   ]
  },
  {
   "cell_type": "markdown",
   "id": "e8ef7a49",
   "metadata": {},
   "source": [
    "## Operatörleri Beraber Kullanma\n",
    "\n",
    "Burada gördüğümüz üç operatörü beraber kullanmak karışıklığa yol açacağı için, parantez kullanabiliriz."
   ]
  },
  {
   "cell_type": "code",
   "execution_count": 10,
   "id": "fc8d9915",
   "metadata": {},
   "outputs": [
    {
     "data": {
      "text/plain": [
       "True"
      ]
     },
     "execution_count": 10,
     "metadata": {},
     "output_type": "execute_result"
    }
   ],
   "source": [
    "\"Araba\" < \"Zula\" and (\"Bebek\" < \"Çocuk\" or (not 14))"
   ]
  },
  {
   "cell_type": "code",
   "execution_count": 11,
   "id": "d7fb7842",
   "metadata": {},
   "outputs": [
    {
     "data": {
      "text/plain": [
       "True"
      ]
     },
     "execution_count": 11,
     "metadata": {},
     "output_type": "execute_result"
    }
   ],
   "source": [
    "not (2.14 > 3.49 or (2 != 2 and \"Murat\" == \"Murat\"))"
   ]
  },
  {
   "cell_type": "code",
   "execution_count": null,
   "id": "e78d708b",
   "metadata": {},
   "outputs": [],
   "source": []
  }
 ],
 "metadata": {
  "kernelspec": {
   "display_name": "Python 3 (ipykernel)",
   "language": "python",
   "name": "python3"
  },
  "language_info": {
   "codemirror_mode": {
    "name": "ipython",
    "version": 3
   },
   "file_extension": ".py",
   "mimetype": "text/x-python",
   "name": "python",
   "nbconvert_exporter": "python",
   "pygments_lexer": "ipython3",
   "version": "3.9.7"
  }
 },
 "nbformat": 4,
 "nbformat_minor": 5
}
