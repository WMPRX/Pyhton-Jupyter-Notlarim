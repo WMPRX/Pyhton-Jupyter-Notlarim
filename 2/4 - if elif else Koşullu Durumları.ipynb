{
 "cells": [
  {
   "cell_type": "markdown",
   "id": "1a2ebf33",
   "metadata": {},
   "source": [
    "# if elif else Koşullu Durumları\n",
    "\n",
    "Önceki konuda koşullu durumlarındaki if-else kalıplarını öğrendik. Bu bölümde if-elif-else kalıpşarını öğreneceğiz.\n",
    "\n",
    "## if-elif-else Blokları\n",
    "\n",
    "Önceki konumuzda koşullu durumlarımızla sadece tek koşulu kontrol edebiliyorduk. Ancak programlamada bir durum birçok koşula bağlı olabilir. Örneğin, bir hesap makinesi programı yazdığımızda kullanıcının girdiği işlemlere göre koşullarımızı belirleyebiliriz. Bu tür durumlar için if-elif-else kalıplarını kullanırız. Kullanımı bu şekidedir;\n",
    "\n",
    "          if koşul:\n",
    "              Yapılacak işlemler\n",
    "          elif başka bir koşul:\n",
    "              Yapılacak işlemler\n",
    "          else başka bir koşul:\n",
    "              Yapılacak işlemler\n",
    "              \n",
    "              //\n",
    "              //\n",
    "          else:\n",
    "              Yapılacak işlemler\n",
    "              \n",
    "Programlarımızda kaç tane koşul var ise o kadar elif bloğu oluşturabiliriz. Ayrıca **else** nin yazılması zornlu değildir. if-elif-else kalıplarında koşul sağlanırsa program o bloğu çalıştırır ve ifelif blokları sona erer. Şimdi örneklere geçelim."
   ]
  },
  {
   "cell_type": "code",
   "execution_count": 4,
   "id": "31c2845c",
   "metadata": {},
   "outputs": [
    {
     "name": "stdout",
     "output_type": "stream",
     "text": [
      "İşlem seçiniz: 6\n",
      "Geçersiz işlem !\n"
     ]
    }
   ],
   "source": [
    "işlem = int(input(\"İşlem seçiniz: \"))   #4 TANE İŞLEMİMİZ OLSUN\n",
    "\n",
    "if işlem == 1:\n",
    "    print(\"İşlem 1 seçtiniz.\")\n",
    "elif işlem == 2:\n",
    "    print(\"İşlem 2 seçtiniz\")\n",
    "elif işlem == 3:\n",
    "    print(\"işlem 3 seçtiniz.\")\n",
    "elif işlem == 4:\n",
    "    print(\"işlem 4 seçtiniz\")\n",
    "else:\n",
    "    print(\"Geçersiz işlem !\")"
   ]
  },
  {
   "cell_type": "code",
   "execution_count": 5,
   "id": "07744969",
   "metadata": {},
   "outputs": [
    {
     "name": "stdout",
     "output_type": "stream",
     "text": [
      "Notunuzu giriniz: 25\n",
      "Kaldınız....\n"
     ]
    }
   ],
   "source": [
    "# Bir örnek daha harf notu hesaplama uygulamaso yapalım.\n",
    "\n",
    "note = int(input(\"Notunuzu giriniz: \"))\n",
    "if note >= 90:\n",
    "    print(\"AA\")\n",
    "elif note >= 85:\n",
    "    print(\"BA\")\n",
    "elif note >= 80:\n",
    "    print(\"BB\")\n",
    "elif note >= 75:\n",
    "    print(\"CB\")\n",
    "elif note >= 70:\n",
    "    print(\"CC\")\n",
    "elif note >= 65:\n",
    "    print(\"CD\")\n",
    "elif note >= 60:\n",
    "    print(\"DD\")\n",
    "else :\n",
    "    print(\"Kaldınız....\")"
   ]
  },
  {
   "cell_type": "markdown",
   "id": "12117bf4",
   "metadata": {},
   "source": [
    "**NOT:**  elif ve else kodları tek başına çalışmazlar."
   ]
  },
  {
   "cell_type": "code",
   "execution_count": 6,
   "id": "1e492445",
   "metadata": {},
   "outputs": [
    {
     "ename": "SyntaxError",
     "evalue": "invalid syntax (Temp/ipykernel_10016/2571949546.py, line 3)",
     "output_type": "error",
     "traceback": [
      "\u001b[1;36m  File \u001b[1;32m\"C:\\Users\\mehme\\AppData\\Local\\Temp/ipykernel_10016/2571949546.py\"\u001b[1;36m, line \u001b[1;32m3\u001b[0m\n\u001b[1;33m    elif sayı == 5:\u001b[0m\n\u001b[1;37m    ^\u001b[0m\n\u001b[1;31mSyntaxError\u001b[0m\u001b[1;31m:\u001b[0m invalid syntax\n"
     ]
    }
   ],
   "source": [
    "sayı = input(\"Sayı giriniz: \")\n",
    "\n",
    "elif sayı == 5:\n",
    "    print(\"doğru sayı\")"
   ]
  },
  {
   "cell_type": "code",
   "execution_count": 7,
   "id": "6889b378",
   "metadata": {},
   "outputs": [
    {
     "ename": "SyntaxError",
     "evalue": "invalid syntax (Temp/ipykernel_10016/3492316986.py, line 3)",
     "output_type": "error",
     "traceback": [
      "\u001b[1;36m  File \u001b[1;32m\"C:\\Users\\mehme\\AppData\\Local\\Temp/ipykernel_10016/3492316986.py\"\u001b[1;36m, line \u001b[1;32m3\u001b[0m\n\u001b[1;33m    else:\u001b[0m\n\u001b[1;37m    ^\u001b[0m\n\u001b[1;31mSyntaxError\u001b[0m\u001b[1;31m:\u001b[0m invalid syntax\n"
     ]
    }
   ],
   "source": [
    "sayı = input(\"Sayı giriniz: \")\n",
    "\n",
    "else:\n",
    "    print(\"doğru sayı\")"
   ]
  },
  {
   "cell_type": "markdown",
   "id": "56008551",
   "metadata": {},
   "source": [
    "**NOT:** İf bloğu arasına elif veya else gelmediği sürece ondan sonra gelen bütün if bloklarını ele alır."
   ]
  },
  {
   "cell_type": "code",
   "execution_count": 8,
   "id": "8e2d6e0f",
   "metadata": {},
   "outputs": [
    {
     "name": "stdout",
     "output_type": "stream",
     "text": [
      "Notunuzu giriniz: 85\n",
      "BA\n",
      "BB\n",
      "CB\n",
      "CC\n",
      "CD\n",
      "DD\n"
     ]
    }
   ],
   "source": [
    "note = int(input(\"Notunuzu giriniz: \"))\n",
    "if note >= 90:\n",
    "    print(\"AA\")\n",
    "if note >= 85:\n",
    "    print(\"BA\")\n",
    "if note >= 80:\n",
    "    print(\"BB\")\n",
    "if note >= 75:\n",
    "    print(\"CB\")\n",
    "if note >= 70:\n",
    "    print(\"CC\")\n",
    "if note >= 65:\n",
    "    print(\"CD\")\n",
    "if note >= 60:\n",
    "    print(\"DD\")\n",
    "else :\n",
    "    print(\"Kaldınız....\")"
   ]
  },
  {
   "cell_type": "code",
   "execution_count": null,
   "id": "05db1aad",
   "metadata": {},
   "outputs": [],
   "source": []
  }
 ],
 "metadata": {
  "kernelspec": {
   "display_name": "Python 3 (ipykernel)",
   "language": "python",
   "name": "python3"
  },
  "language_info": {
   "codemirror_mode": {
    "name": "ipython",
    "version": 3
   },
   "file_extension": ".py",
   "mimetype": "text/x-python",
   "name": "python",
   "nbconvert_exporter": "python",
   "pygments_lexer": "ipython3",
   "version": "3.9.7"
  }
 },
 "nbformat": 4,
 "nbformat_minor": 5
}
