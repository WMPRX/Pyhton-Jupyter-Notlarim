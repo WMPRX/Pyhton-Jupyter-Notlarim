{
 "cells": [
  {
   "cell_type": "markdown",
   "id": "416c5c27",
   "metadata": {},
   "source": [
    "# Sözlükler\n",
    "\n",
    "Sözlükler veya ingilizce ismi ile dictioneyler aynı gerçek hayattaki sözlükler gibi davranan bir veritipidir. Bu veritipi, şu ana kadar gördüğümüz tüm veritiplernden yapısı gereği farklıdır. Sözlüğün içindeki her bir eleman index ile değil, anahtar(key), değer (value) olarak tutulur. Bu anlamda gerçek hayattaki sözlüklere oldukça benzerler. Örneğin, elimize bir ingilizce-türkçe sözlük alıp freedom kelimesini (key ya da anahtar) aradığımız zaman karşılık değer özgürlük (değer ya da value) olarak karşımıza çıkar. Sözlükleri şu şekilde düşünebiliriz: \n",
    "\n",
    "Şimdi sözlük oluşturarak konuya başlayalım."
   ]
  },
  {
   "cell_type": "markdown",
   "id": "cbd9645c",
   "metadata": {},
   "source": [
    "## Sözlük Oluşturmak"
   ]
  },
  {
   "cell_type": "code",
   "execution_count": 10,
   "id": "6afa01f3",
   "metadata": {},
   "outputs": [
    {
     "data": {
      "text/plain": [
       "{'Sıfır': 0, 'Bir': 1, 'İki': 2}"
      ]
     },
     "execution_count": 10,
     "metadata": {},
     "output_type": "execute_result"
    }
   ],
   "source": [
    "# süslü parantez ve iki nokta (:) ile anahtar değerlerimizi yerleştirelim.\n",
    "\n",
    "sözlük1 = {\"Sıfır\":0, \"Bir\":1, \"İki\":2}\n",
    "\n",
    "sözlük1"
   ]
  },
  {
   "cell_type": "code",
   "execution_count": 11,
   "id": "d08ce4ea",
   "metadata": {},
   "outputs": [
    {
     "data": {
      "text/plain": [
       "{}"
      ]
     },
     "execution_count": 11,
     "metadata": {},
     "output_type": "execute_result"
    }
   ],
   "source": [
    "# Boş bir sözlük\n",
    "\n",
    "sözlük2 ={}\n",
    "\n",
    "sözlük2"
   ]
  },
  {
   "cell_type": "code",
   "execution_count": 12,
   "id": "52834edb",
   "metadata": {},
   "outputs": [
    {
     "data": {
      "text/plain": [
       "{}"
      ]
     },
     "execution_count": 12,
     "metadata": {},
     "output_type": "execute_result"
    }
   ],
   "source": [
    "# Boş bi sözlük dict() ile\n",
    "\n",
    "sözlük2 = dict()\n",
    "\n",
    "sözlük2"
   ]
  },
  {
   "cell_type": "markdown",
   "id": "ef4a2b85",
   "metadata": {},
   "source": [
    "## Sözlük Değerlerine Erişmek ve Sözlüğe Değer Vermek\n",
    "\n",
    "Sözlük veritipinin gerçek hayattaki sözcüklere çok benzediğini artık biliyoruz. Öyleyse bir değeri value() elde etmek için, indexleri değil anahtar(key) kullanacağız."
   ]
  },
  {
   "cell_type": "code",
   "execution_count": 13,
   "id": "ee14990f",
   "metadata": {},
   "outputs": [
    {
     "data": {
      "text/plain": [
       "{'Sıfır': 0, 'Bir': 1, 'İki': 2}"
      ]
     },
     "execution_count": 13,
     "metadata": {},
     "output_type": "execute_result"
    }
   ],
   "source": [
    "sözlük1"
   ]
  },
  {
   "cell_type": "code",
   "execution_count": 14,
   "id": "4202e9ec",
   "metadata": {},
   "outputs": [
    {
     "data": {
      "text/plain": [
       "1"
      ]
     },
     "execution_count": 14,
     "metadata": {},
     "output_type": "execute_result"
    }
   ],
   "source": [
    "# 1 anahtarına karşılık gelen değeri buluyoruz\n",
    "\n",
    "sözlük1[\"Bir\"]"
   ]
  },
  {
   "cell_type": "code",
   "execution_count": 16,
   "id": "73182235",
   "metadata": {},
   "outputs": [
    {
     "data": {
      "text/plain": [
       "2"
      ]
     },
     "execution_count": 16,
     "metadata": {},
     "output_type": "execute_result"
    }
   ],
   "source": [
    "sözlük1[\"İki\"]"
   ]
  },
  {
   "cell_type": "code",
   "execution_count": 17,
   "id": "1c56eee8",
   "metadata": {},
   "outputs": [
    {
     "ename": "KeyError",
     "evalue": "'Sekiz'",
     "output_type": "error",
     "traceback": [
      "\u001b[1;31m---------------------------------------------------------------------------\u001b[0m",
      "\u001b[1;31mKeyError\u001b[0m                                  Traceback (most recent call last)",
      "\u001b[1;32m~\\AppData\\Local\\Temp/ipykernel_17276/3149221453.py\u001b[0m in \u001b[0;36m<module>\u001b[1;34m\u001b[0m\n\u001b[0;32m      1\u001b[0m \u001b[1;31m# Olmayan bir anahtar girersek hata alırız\u001b[0m\u001b[1;33m\u001b[0m\u001b[1;33m\u001b[0m\u001b[0m\n\u001b[0;32m      2\u001b[0m \u001b[1;33m\u001b[0m\u001b[0m\n\u001b[1;32m----> 3\u001b[1;33m \u001b[0msözlük1\u001b[0m\u001b[1;33m[\u001b[0m\u001b[1;34m\"Sekiz\"\u001b[0m\u001b[1;33m]\u001b[0m\u001b[1;33m\u001b[0m\u001b[1;33m\u001b[0m\u001b[0m\n\u001b[0m",
      "\u001b[1;31mKeyError\u001b[0m: 'Sekiz'"
     ]
    }
   ],
   "source": [
    "# Olmayan bir anahtar girersek hata alırız\n",
    "\n",
    "sözlük1[\"Sekiz\"]"
   ]
  },
  {
   "cell_type": "code",
   "execution_count": 24,
   "id": "0f810dd2",
   "metadata": {},
   "outputs": [],
   "source": [
    "a = {\"bir\" : [1,2,3,4], \"iki\" : [[1,2],[3,4],[5,6]], \"üç\" : 15}"
   ]
  },
  {
   "cell_type": "code",
   "execution_count": 25,
   "id": "f29a452c",
   "metadata": {},
   "outputs": [
    {
     "data": {
      "text/plain": [
       "[[1, 2], [3, 4], [5, 6]]"
      ]
     },
     "execution_count": 25,
     "metadata": {},
     "output_type": "execute_result"
    }
   ],
   "source": [
    "# iki anahtarının değeri\n",
    "\n",
    "a[\"iki\"]"
   ]
  },
  {
   "cell_type": "code",
   "execution_count": 26,
   "id": "75b72df0",
   "metadata": {},
   "outputs": [
    {
     "data": {
      "text/plain": [
       "4"
      ]
     },
     "execution_count": 26,
     "metadata": {},
     "output_type": "execute_result"
    }
   ],
   "source": [
    "#iç içe listeleri biliyoruz\n",
    "a[\"iki\"][1][1]"
   ]
  },
  {
   "cell_type": "code",
   "execution_count": 27,
   "id": "058e4120",
   "metadata": {},
   "outputs": [
    {
     "data": {
      "text/plain": [
       "15"
      ]
     },
     "execution_count": 27,
     "metadata": {},
     "output_type": "execute_result"
    }
   ],
   "source": [
    "a[\"üç\"]"
   ]
  },
  {
   "cell_type": "code",
   "execution_count": 28,
   "id": "ae8b2cb7",
   "metadata": {},
   "outputs": [
    {
     "data": {
      "text/plain": [
       "20"
      ]
     },
     "execution_count": 28,
     "metadata": {},
     "output_type": "execute_result"
    }
   ],
   "source": [
    "a[\"üç\"] +=5\n",
    "a[\"üç\"]"
   ]
  },
  {
   "cell_type": "code",
   "execution_count": 29,
   "id": "f2fd86e4",
   "metadata": {},
   "outputs": [
    {
     "data": {
      "text/plain": [
       "{'bir': [1, 2, 3, 4], 'iki': [[1, 2], [3, 4], [5, 6]], 'üç': 20}"
      ]
     },
     "execution_count": 29,
     "metadata": {},
     "output_type": "execute_result"
    }
   ],
   "source": [
    "a"
   ]
  },
  {
   "cell_type": "markdown",
   "id": "000265e4",
   "metadata": {},
   "source": [
    "Bir sözlüğe **dinamik** olarak da eleman ekleyebiliriz"
   ]
  },
  {
   "cell_type": "code",
   "execution_count": 33,
   "id": "e9b1106d",
   "metadata": {},
   "outputs": [],
   "source": [
    "# sözlük oluşturalım\n",
    "\n",
    "a = {\"bir\":1, \"iki\":2, \"üç\":3}"
   ]
  },
  {
   "cell_type": "code",
   "execution_count": 34,
   "id": "7645db56",
   "metadata": {},
   "outputs": [
    {
     "data": {
      "text/plain": [
       "{'bir': 1, 'iki': 2, 'üç': 3, 'dört': 4}"
      ]
     },
     "execution_count": 34,
     "metadata": {},
     "output_type": "execute_result"
    }
   ],
   "source": [
    "a[\"dört\"] = 4             # görüldüğü üzere sözlük içerisinde daha önce olmayan 10 rakamını da eklemiş olduk\n",
    "a"
   ]
  },
  {
   "cell_type": "markdown",
   "id": "13a76b24",
   "metadata": {},
   "source": [
    "Dikkat edersek yeni eklediğimiz anahtar ve edğer sözlüğün sonuna eklenmedi. Burada sözlüklerin bir diğer değerini daha görmüş oluyoruz. Sözlükler diğer veritiplerinden farklı olarak sıralı olmayan veritipleridir. Herhangi bir yere otomatik olarak girebilirler. "
   ]
  },
  {
   "cell_type": "markdown",
   "id": "24217e2b",
   "metadata": {},
   "source": [
    "## İç içe Sözlükler\n",
    "\n",
    "Tıpkı listeler gibi iç içe sözlükler de oluşturulabilir."
   ]
  },
  {
   "cell_type": "code",
   "execution_count": 37,
   "id": "c82d0f67",
   "metadata": {},
   "outputs": [],
   "source": [
    " #iç içe sözlük\n",
    "\n",
    "a = {\"sayılar\": {\"bir\":1,\"iki\":2,\"üç\":3}, \"meyveler\":{\"kiraz\":\"yaz\",\"portakal\":\"kış\", \"erik\":\"yaz\"}}"
   ]
  },
  {
   "cell_type": "code",
   "execution_count": 38,
   "id": "f5a0203b",
   "metadata": {},
   "outputs": [
    {
     "data": {
      "text/plain": [
       "1"
      ]
     },
     "execution_count": 38,
     "metadata": {},
     "output_type": "execute_result"
    }
   ],
   "source": [
    "a[\"sayılar\"][\"bir\"]"
   ]
  },
  {
   "cell_type": "code",
   "execution_count": 40,
   "id": "2c842431",
   "metadata": {},
   "outputs": [
    {
     "data": {
      "text/plain": [
       "'yaz'"
      ]
     },
     "execution_count": 40,
     "metadata": {},
     "output_type": "execute_result"
    }
   ],
   "source": [
    "a[\"meyveler\"][\"kiraz\"]"
   ]
  },
  {
   "cell_type": "markdown",
   "id": "856ef526",
   "metadata": {},
   "source": [
    "## Temek Sözlük Metodları"
   ]
  },
  {
   "cell_type": "code",
   "execution_count": 41,
   "id": "3ec494c4",
   "metadata": {},
   "outputs": [],
   "source": [
    "yeni_sözlük = {\"bir\":1, \"iki\":2, \"üç\":3}"
   ]
  },
  {
   "cell_type": "code",
   "execution_count": 42,
   "id": "fb8c58b5",
   "metadata": {},
   "outputs": [
    {
     "data": {
      "text/plain": [
       "dict_values([1, 2, 3])"
      ]
     },
     "execution_count": 42,
     "metadata": {},
     "output_type": "execute_result"
    }
   ],
   "source": [
    "#values() metodu sözlüğün değerini(value) bir liste olarak döner\n",
    "\n",
    "yeni_sözlük.values()"
   ]
  },
  {
   "cell_type": "code",
   "execution_count": 45,
   "id": "5616115e",
   "metadata": {},
   "outputs": [
    {
     "data": {
      "text/plain": [
       "dict_keys(['bir', 'iki', 'üç'])"
      ]
     },
     "execution_count": 45,
     "metadata": {},
     "output_type": "execute_result"
    }
   ],
   "source": [
    "#keys() metodu anahtarlarnı key() bir liste olarak ger döner\n",
    "\n",
    "yeni_sözlük.keys()"
   ]
  },
  {
   "cell_type": "code",
   "execution_count": 47,
   "id": "c2dd80fd",
   "metadata": {},
   "outputs": [
    {
     "data": {
      "text/plain": [
       "dict_items([('bir', 1), ('iki', 2), ('üç', 3)])"
      ]
     },
     "execution_count": 47,
     "metadata": {},
     "output_type": "execute_result"
    }
   ],
   "source": [
    "#items() metodu sözlüğün anahtar ve değerlerini bir liste içinde demet olarak döner\n",
    "\n",
    "yeni_sözlük.items()"
   ]
  },
  {
   "cell_type": "code",
   "execution_count": null,
   "id": "90677f4c",
   "metadata": {},
   "outputs": [],
   "source": []
  }
 ],
 "metadata": {
  "kernelspec": {
   "display_name": "Python 3 (ipykernel)",
   "language": "python",
   "name": "python3"
  },
  "language_info": {
   "codemirror_mode": {
    "name": "ipython",
    "version": 3
   },
   "file_extension": ".py",
   "mimetype": "text/x-python",
   "name": "python",
   "nbconvert_exporter": "python",
   "pygments_lexer": "ipython3",
   "version": "3.9.7"
  }
 },
 "nbformat": 4,
 "nbformat_minor": 5
}
