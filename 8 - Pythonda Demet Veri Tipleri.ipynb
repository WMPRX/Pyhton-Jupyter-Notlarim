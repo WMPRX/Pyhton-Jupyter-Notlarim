{
 "cells": [
  {
   "cell_type": "markdown",
   "id": "d6dd1a66",
   "metadata": {},
   "source": [
    "#  Demetler (Tuplelar)\n",
    "\n",
    "Demetler veya ingilizce izmi ile tuplelar listlere oldukça benzer ancak farkları demetlerin değiştirilemez oluşudur. Bu yüzden programlarımızda değiştirilmesini istemediğimiz yerleri bir demet içinde toplayabiliriz. "
   ]
  },
  {
   "cell_type": "markdown",
   "id": "ba7690ed",
   "metadata": {},
   "source": [
    "## Demet Oluşturma"
   ]
  },
  {
   "cell_type": "code",
   "execution_count": 1,
   "id": "63822d1f",
   "metadata": {},
   "outputs": [],
   "source": [
    "# demet elemanları parantez içine alınarak demet oluşturulabilir\n",
    "\n",
    "demet  = (1,2,3,4,5,67,8,9)"
   ]
  },
  {
   "cell_type": "code",
   "execution_count": 2,
   "id": "1d209f87",
   "metadata": {},
   "outputs": [
    {
     "data": {
      "text/plain": [
       "(1, 2, 3, 4, 5, 67, 8, 9)"
      ]
     },
     "execution_count": 2,
     "metadata": {},
     "output_type": "execute_result"
    }
   ],
   "source": [
    "demet"
   ]
  },
  {
   "cell_type": "code",
   "execution_count": 3,
   "id": "ae4dcd4a",
   "metadata": {},
   "outputs": [
    {
     "data": {
      "text/plain": [
       "tuple"
      ]
     },
     "execution_count": 3,
     "metadata": {},
     "output_type": "execute_result"
    }
   ],
   "source": [
    "# type () fonksiyonu yardımıyla türünü öğrenelim\n",
    "\n",
    "type(demet)"
   ]
  },
  {
   "cell_type": "markdown",
   "id": "d5a24a06",
   "metadata": {},
   "source": [
    "Peki bir elmanı bir demet nasıl tanımlanır"
   ]
  },
  {
   "cell_type": "code",
   "execution_count": 4,
   "id": "a3f3a083",
   "metadata": {},
   "outputs": [
    {
     "data": {
      "text/plain": [
       "(1,)"
      ]
     },
     "execution_count": 4,
     "metadata": {},
     "output_type": "execute_result"
    }
   ],
   "source": [
    "#Tek elemanlı bir demet bu şekilde tanımlanır\n",
    "\n",
    "demet = (1,)\n",
    "demet"
   ]
  },
  {
   "cell_type": "code",
   "execution_count": 5,
   "id": "7c877a90",
   "metadata": {},
   "outputs": [
    {
     "data": {
      "text/plain": [
       "tuple"
      ]
     },
     "execution_count": 5,
     "metadata": {},
     "output_type": "execute_result"
    }
   ],
   "source": [
    "type(demet)"
   ]
  },
  {
   "cell_type": "code",
   "execution_count": 6,
   "id": "107fd8be",
   "metadata": {},
   "outputs": [
    {
     "data": {
      "text/plain": [
       "1"
      ]
     },
     "execution_count": 6,
     "metadata": {},
     "output_type": "execute_result"
    }
   ],
   "source": [
    "demet = (1,2,3,4,5,6,7,8,9)\n",
    "#0. indexe ulaşmak için\n",
    "demet[0]"
   ]
  },
  {
   "cell_type": "code",
   "execution_count": 7,
   "id": "4068fccf",
   "metadata": {},
   "outputs": [
    {
     "data": {
      "text/plain": [
       "5"
      ]
     },
     "execution_count": 7,
     "metadata": {},
     "output_type": "execute_result"
    }
   ],
   "source": [
    "#4. indexe ulaşma\n",
    "demet[4]"
   ]
  },
  {
   "cell_type": "code",
   "execution_count": 8,
   "id": "6f4cfbed",
   "metadata": {},
   "outputs": [
    {
     "data": {
      "text/plain": [
       "9"
      ]
     },
     "execution_count": 8,
     "metadata": {},
     "output_type": "execute_result"
    }
   ],
   "source": [
    "demet[-1]"
   ]
  },
  {
   "cell_type": "code",
   "execution_count": 9,
   "id": "71c16c4b",
   "metadata": {},
   "outputs": [
    {
     "data": {
      "text/plain": [
       "(9, 8, 7, 6, 5, 4, 3, 2, 1)"
      ]
     },
     "execution_count": 9,
     "metadata": {},
     "output_type": "execute_result"
    }
   ],
   "source": [
    "demet[::-1]"
   ]
  },
  {
   "cell_type": "markdown",
   "id": "918e8ad2",
   "metadata": {},
   "source": [
    "## Demetlerin Temel Metodları\n",
    "\n",
    "**İndex** metoduyla içine verdiğimiz elemanın hangi indexte olduğunu bulabiliriz"
   ]
  },
  {
   "cell_type": "code",
   "execution_count": 20,
   "id": "ce3b5875",
   "metadata": {},
   "outputs": [
    {
     "data": {
      "text/plain": [
       "3"
      ]
     },
     "execution_count": 20,
     "metadata": {},
     "output_type": "execute_result"
    }
   ],
   "source": [
    "#Demeti oluşturalım\n",
    "\n",
    "demet = (1,2,3,\"Mehmet\",\"Akın\",\"Pyhton\")\n",
    "#mehmet elemanının indexini buluyoruz\n",
    "\n",
    "demet.index(\"Mehmet\")     #görüldüğü gibi mehmet indexi 3. sırada yer alıyor."
   ]
  },
  {
   "cell_type": "code",
   "execution_count": 21,
   "id": "389f03ce",
   "metadata": {},
   "outputs": [
    {
     "data": {
      "text/plain": [
       "0"
      ]
     },
     "execution_count": 21,
     "metadata": {},
     "output_type": "execute_result"
    }
   ],
   "source": [
    "demet.index(1)"
   ]
  },
  {
   "cell_type": "code",
   "execution_count": 22,
   "id": "8fe45bde",
   "metadata": {},
   "outputs": [
    {
     "data": {
      "text/plain": [
       "1"
      ]
     },
     "execution_count": 22,
     "metadata": {},
     "output_type": "execute_result"
    }
   ],
   "source": [
    "demet.index(2)"
   ]
  },
  {
   "cell_type": "markdown",
   "id": "b8159266",
   "metadata": {},
   "source": [
    "**count** metoduyla içine verdiğimiz değerin demette kaç defa geçtiğini bulabiliriz."
   ]
  },
  {
   "cell_type": "code",
   "execution_count": 23,
   "id": "71b5ef36",
   "metadata": {},
   "outputs": [
    {
     "data": {
      "text/plain": [
       "2"
      ]
     },
     "execution_count": 23,
     "metadata": {},
     "output_type": "execute_result"
    }
   ],
   "source": [
    "demet = (1,2,2,2,2,3,4,5,6,78,9,8,8,8,1)\n",
    "demet.count(1)"
   ]
  },
  {
   "cell_type": "code",
   "execution_count": 24,
   "id": "bebf4fff",
   "metadata": {},
   "outputs": [
    {
     "data": {
      "text/plain": [
       "4"
      ]
     },
     "execution_count": 24,
     "metadata": {},
     "output_type": "execute_result"
    }
   ],
   "source": [
    "demet.count(2)"
   ]
  },
  {
   "cell_type": "markdown",
   "id": "77254b15",
   "metadata": {},
   "source": [
    "## Değiştirilememe Özelliği\n",
    "\n",
    "Demetlerin değiştirilemez olduğunu biliyoruz. Şimdide örneklere geçelim."
   ]
  },
  {
   "cell_type": "code",
   "execution_count": 25,
   "id": "31aae6af",
   "metadata": {},
   "outputs": [
    {
     "ename": "TypeError",
     "evalue": "'tuple' object does not support item assignment",
     "output_type": "error",
     "traceback": [
      "\u001b[1;31m---------------------------------------------------------------------------\u001b[0m",
      "\u001b[1;31mTypeError\u001b[0m                                 Traceback (most recent call last)",
      "\u001b[1;32m~\\AppData\\Local\\Temp/ipykernel_8768/1180374010.py\u001b[0m in \u001b[0;36m<module>\u001b[1;34m\u001b[0m\n\u001b[0;32m      2\u001b[0m \u001b[1;33m\u001b[0m\u001b[0m\n\u001b[0;32m      3\u001b[0m \u001b[0mdemet\u001b[0m \u001b[1;33m=\u001b[0m \u001b[1;33m(\u001b[0m\u001b[1;34m\"Elma\"\u001b[0m\u001b[1;33m,\u001b[0m\u001b[1;34m\"Armut\"\u001b[0m\u001b[1;33m,\u001b[0m\u001b[1;34m\"Muz\"\u001b[0m\u001b[1;33m)\u001b[0m\u001b[1;33m\u001b[0m\u001b[1;33m\u001b[0m\u001b[0m\n\u001b[1;32m----> 4\u001b[1;33m \u001b[0mdemet\u001b[0m\u001b[1;33m[\u001b[0m\u001b[1;36m0\u001b[0m\u001b[1;33m]\u001b[0m \u001b[1;33m=\u001b[0m \u001b[1;34m\"Kiraz\"\u001b[0m\u001b[1;33m\u001b[0m\u001b[1;33m\u001b[0m\u001b[0m\n\u001b[0m",
      "\u001b[1;31mTypeError\u001b[0m: 'tuple' object does not support item assignment"
     ]
    }
   ],
   "source": [
    "#Demet oluşturtalım\n",
    "\n",
    "demet = (\"Elma\",\"Armut\",\"Muz\")\n",
    "demet[0] = \"Kiraz\"                      #Görüldüğü üzere demet değiştirilemedi ve hata verdi."
   ]
  },
  {
   "cell_type": "code",
   "execution_count": 27,
   "id": "f99f2801",
   "metadata": {},
   "outputs": [
    {
     "ename": "AttributeError",
     "evalue": "'tuple' object has no attribute 'remove'",
     "output_type": "error",
     "traceback": [
      "\u001b[1;31m---------------------------------------------------------------------------\u001b[0m",
      "\u001b[1;31mAttributeError\u001b[0m                            Traceback (most recent call last)",
      "\u001b[1;32m~\\AppData\\Local\\Temp/ipykernel_8768/518326173.py\u001b[0m in \u001b[0;36m<module>\u001b[1;34m\u001b[0m\n\u001b[1;32m----> 1\u001b[1;33m \u001b[0mdemet\u001b[0m\u001b[1;33m.\u001b[0m\u001b[0mremove\u001b[0m\u001b[1;33m(\u001b[0m\u001b[1;34m\"Elma\"\u001b[0m\u001b[1;33m)\u001b[0m              \u001b[1;31m#Demetleri silemeyiz ayrıca.\u001b[0m\u001b[1;33m\u001b[0m\u001b[1;33m\u001b[0m\u001b[0m\n\u001b[0m",
      "\u001b[1;31mAttributeError\u001b[0m: 'tuple' object has no attribute 'remove'"
     ]
    }
   ],
   "source": [
    "demet.remove(\"Elma\")              #Demetleri silemeyiz ayrıca."
   ]
  },
  {
   "cell_type": "markdown",
   "id": "e8bbcc2e",
   "metadata": {},
   "source": [
    "## Demetleri Ne Zaman Kullanalım ?\n",
    "\n",
    "Aslında Pyhton yazılımcıları demetlerden çok listeleri daha fazla kullanır. Ancak programımızda değiştirilmesini istemediğimiz yerler varsa bunları demet içerisinde depolayabiliriz. Aynı zamanza Read Only(Sadece okuma) bir veritipi olduğu için listelere göre biraz daha hızlı çalışır."
   ]
  },
  {
   "cell_type": "code",
   "execution_count": null,
   "id": "5187d9f0",
   "metadata": {},
   "outputs": [],
   "source": []
  }
 ],
 "metadata": {
  "kernelspec": {
   "display_name": "Python 3 (ipykernel)",
   "language": "python",
   "name": "python3"
  },
  "language_info": {
   "codemirror_mode": {
    "name": "ipython",
    "version": 3
   },
   "file_extension": ".py",
   "mimetype": "text/x-python",
   "name": "python",
   "nbconvert_exporter": "python",
   "pygments_lexer": "ipython3",
   "version": "3.9.7"
  }
 },
 "nbformat": 4,
 "nbformat_minor": 5
}
