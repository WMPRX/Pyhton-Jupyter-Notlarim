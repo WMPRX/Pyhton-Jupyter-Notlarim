{
 "cells": [
  {
   "cell_type": "markdown",
   "id": "ab3e3944",
   "metadata": {},
   "source": [
    "# Döngülerde kullanılan ifadeler : break ve continue "
   ]
  },
  {
   "cell_type": "markdown",
   "id": "9e27acd6",
   "metadata": {},
   "source": [
    "Bu videoda döngülerde kullanılabilen *break* ve *continue* ifadelerini öğrenmeye çalışacağız. Bu ifadeleri kullanarak döngü yapılarını daha efektif kullanabiliriz."
   ]
  },
  {
   "cell_type": "markdown",
   "id": "5bc19944",
   "metadata": {},
   "source": [
    "### break ifadesi"
   ]
  },
  {
   "cell_type": "markdown",
   "id": "3d6d1790",
   "metadata": {},
   "source": [
    "break ifadesi döngülerde programcılar tarafından en çok kullanılan ifadedir. Anlamı şu şekildedir;\n",
    "\n",
    "            Döngü herhangi bir yerde ve herhangi bir zamanda break ifadesiyle karşılaştığı zaman\n",
    "            çalışmasını bir anda durdurur. Böylelikle döngü hiçbir koşula bağlı kalmadan sonlanmış olur.\n",
    "            \n",
    "            \n",
    "break ifadesi **sadece ve sadece** içindeki bulunduğu döngüyü sonlandırır. Eğer iç içe döngüler bulunuyorsa ve en içteki döngüde break kullanılmışsa sadece içteki döngü sona erer. Örneklerle *break* ifadesini anlamaya çalışalım.\n",
    "            \n"
   ]
  },
  {
   "cell_type": "code",
   "execution_count": 1,
   "id": "22fe8357",
   "metadata": {},
   "outputs": [
    {
     "name": "stdout",
     "output_type": "stream",
     "text": [
      "0\n",
      "1\n",
      "2\n",
      "3\n",
      "4\n",
      "5\n",
      "6\n",
      "7\n",
      "8\n",
      "9\n"
     ]
    }
   ],
   "source": [
    "i = 0    #bu döngüyü biliyoruz\n",
    "\n",
    "while i < 10:\n",
    "    print(i)\n",
    "    i += 1"
   ]
  },
  {
   "cell_type": "code",
   "execution_count": 2,
   "id": "050a6ce9",
   "metadata": {},
   "outputs": [
    {
     "name": "stdout",
     "output_type": "stream",
     "text": [
      "0\n",
      "1\n",
      "2\n",
      "3\n",
      "4\n"
     ]
    }
   ],
   "source": [
    "i = 0  \n",
    "\n",
    "while i < 10:\n",
    "    if (i == 5):\n",
    "        break\n",
    "    print(i)\n",
    "    i += 1"
   ]
  },
  {
   "cell_type": "code",
   "execution_count": 4,
   "id": "ac1ea505",
   "metadata": {},
   "outputs": [
    {
     "name": "stdout",
     "output_type": "stream",
     "text": [
      "i:  1\n",
      "i:  2\n"
     ]
    }
   ],
   "source": [
    "# break ifadesinin listelerde kullanımı\n",
    "\n",
    "liste = [1,2,3,4,5]\n",
    "\n",
    "for i in liste:\n",
    "    if (i == 3):\n",
    "        break\n",
    "    print(\"i: \",i)"
   ]
  },
  {
   "cell_type": "code",
   "execution_count": 14,
   "id": "6408dda4",
   "metadata": {},
   "outputs": [
    {
     "name": "stdout",
     "output_type": "stream",
     "text": [
      "isim(Çıkmak için 'q' ya basınmehmet\n",
      "isim giriniz: mehmet\n",
      "isim(Çıkmak için 'q' ya basınq\n",
      "programdan çıkılıyor...\n"
     ]
    }
   ],
   "source": [
    "while True:    #sonsuz döngüyü break ifadesi sayesinde sonlandırabiliriz.\n",
    "    isim = input(\"isim(Çıkmak için 'q' ya basın\")\n",
    "    if (isim == \"q\"):\n",
    "        print(\"programdan çıkılıyor...\")\n",
    "        break\n",
    "    print(\"isim giriniz:\",isim)\n",
    "                    "
   ]
  },
  {
   "cell_type": "markdown",
   "id": "96e956ed",
   "metadata": {},
   "source": [
    "### continue ifadesi\n",
    "*continue* ifadesi *break*'e göre biraz daha az kullanılan bir ifadedir. Anlamı şu şekildedir;\n",
    "            \n",
    "        Döngü herhangi bir yerde ve herhangi bir zamanda continue ifadesiyle karşılaştığı zaman geri kalan işlemlerini\n",
    "        yapmadan direk bloğunun başına döner.\n",
    "        \n",
    "*continue* ifadesini anlamak için örneklerimize bakalım.\n",
    "\n"
   ]
  },
  {
   "cell_type": "code",
   "execution_count": 15,
   "id": "dbea83d7",
   "metadata": {},
   "outputs": [
    {
     "name": "stdout",
     "output_type": "stream",
     "text": [
      "i:  1\n",
      "i:  2\n",
      "i:  3\n",
      "i:  4\n",
      "i:  5\n"
     ]
    }
   ],
   "source": [
    "liste = [1,2,3,4,5]\n",
    "\n",
    "for i in liste:       #bunu biliyoruz\n",
    "    print(\"i: \",i)"
   ]
  },
  {
   "cell_type": "code",
   "execution_count": 17,
   "id": "a6ddfe42",
   "metadata": {},
   "outputs": [
    {
     "name": "stdout",
     "output_type": "stream",
     "text": [
      "i:  1\n",
      "i:  2\n",
      "i:  3\n",
      "i:  4\n",
      "i:  6\n",
      "i:  7\n",
      "i:  9\n",
      "i:  10\n"
     ]
    }
   ],
   "source": [
    "liste = [1,2,3,4,5,6,7,8,9,10]\n",
    "\n",
    "for i in liste:\n",
    "    if (i == 5 or i ==8 ):\n",
    "        continue\n",
    "    print(\"i: \",i)            #görüldüğü gibi 5 ve 8 sayısı yazılmadı."
   ]
  },
  {
   "cell_type": "markdown",
   "id": "d30467ad",
   "metadata": {},
   "source": [
    "*continue* ifadesi while döngüleriyle kullanıldıkları zaman **sonsuz döngü** olayına yol açabilmektedir. Anlamak için örneğimize bakalım.\n",
    "\n",
    "**Jupyterde sonsuz döngüyü çalıştırdığımızda , programı durdurmak için ilk olarak yukarıdaki \"Kernel\" e gidelim ve Interrupta tıklayalım. Bir kaç saniye bekledikten sonra \"Restart\" a tıklayalım. Böyle bir durumda Jupyter tekrar kendine gelecektir.**"
   ]
  },
  {
   "cell_type": "code",
   "execution_count": null,
   "id": "53c0e07c",
   "metadata": {},
   "outputs": [],
   "source": [
    "i = 0 # Bu kodda Sonsuz döngü olayı neden oluşur ? Bu kodu çalıştırmayalım.\n",
    "\n",
    "# Eğer çalıştırırsak sonsuz döngüyü \"Kernel\" sekmesinde \n",
    "\n",
    "while (i < 10):\n",
    "    print(i)\n",
    "    \n",
    "    if (i == 2):\n",
    "        continue\n",
    "        \n",
    "    i += 1"
   ]
  },
  {
   "cell_type": "code",
   "execution_count": 6,
   "id": "17ea75b2",
   "metadata": {},
   "outputs": [
    {
     "name": "stdout",
     "output_type": "stream",
     "text": [
      "i: 0\n",
      "i: 1\n",
      "i: 3\n",
      "i: 4\n",
      "i: 5\n",
      "i: 6\n",
      "i: 7\n",
      "i: 8\n",
      "i: 9\n"
     ]
    }
   ],
   "source": [
    "i = 0 # Kodun sorunsuz hali\n",
    "\n",
    "while (i < 10):\n",
    "    \n",
    "    if (i == 2):\n",
    "        i += 1 # Artırma işlemi\n",
    "        continue\n",
    "        \n",
    "    print(\"i:\",i)\n",
    "    i += 1"
   ]
  },
  {
   "cell_type": "code",
   "execution_count": null,
   "id": "73b5c612",
   "metadata": {},
   "outputs": [],
   "source": []
  }
 ],
 "metadata": {
  "kernelspec": {
   "display_name": "Python 3 (ipykernel)",
   "language": "python",
   "name": "python3"
  },
  "language_info": {
   "codemirror_mode": {
    "name": "ipython",
    "version": 3
   },
   "file_extension": ".py",
   "mimetype": "text/x-python",
   "name": "python",
   "nbconvert_exporter": "python",
   "pygments_lexer": "ipython3",
   "version": "3.9.7"
  }
 },
 "nbformat": 4,
 "nbformat_minor": 5
}
