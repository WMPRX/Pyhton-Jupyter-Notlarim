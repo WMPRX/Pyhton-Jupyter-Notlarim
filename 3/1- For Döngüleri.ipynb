{
 "cells": [
  {
   "cell_type": "markdown",
   "id": "eba59667",
   "metadata": {},
   "source": [
    "# For Döngüleri\n",
    "\n",
    "Bu konuda Pythondaki **for** döngülerinin yapısını ve for döngülerinin kullanım alanlarını öğreneceğiz. Ancak ondan önce , Pythondaki in operatörünü öğrenmeye çalışalım."
   ]
  },
  {
   "cell_type": "markdown",
   "id": "1205a959",
   "metadata": {},
   "source": [
    "### in Operatörü\n",
    "\n",
    "Pythondaki *in* operatörü , bir elemanın başka bir listede,demette veya stringte (karakter dizileri) bulunup bulunmadığını kontrol eder. Kullanımı şu şekildedir;"
   ]
  },
  {
   "cell_type": "code",
   "execution_count": 1,
   "id": "22333fe6",
   "metadata": {},
   "outputs": [
    {
     "data": {
      "text/plain": [
       "False"
      ]
     },
     "execution_count": 1,
     "metadata": {},
     "output_type": "execute_result"
    }
   ],
   "source": [
    "5 in [1,2,3,4]"
   ]
  },
  {
   "cell_type": "code",
   "execution_count": 2,
   "id": "2c21ee7a",
   "metadata": {},
   "outputs": [
    {
     "data": {
      "text/plain": [
       "True"
      ]
     },
     "execution_count": 2,
     "metadata": {},
     "output_type": "execute_result"
    }
   ],
   "source": [
    "2 in [1,2,3,4]"
   ]
  },
  {
   "cell_type": "code",
   "execution_count": 3,
   "id": "e83439eb",
   "metadata": {},
   "outputs": [
    {
     "data": {
      "text/plain": [
       "True"
      ]
     },
     "execution_count": 3,
     "metadata": {},
     "output_type": "execute_result"
    }
   ],
   "source": [
    "\"p\" in \"python\""
   ]
  },
  {
   "cell_type": "code",
   "execution_count": 4,
   "id": "3e1e69ec",
   "metadata": {},
   "outputs": [
    {
     "data": {
      "text/plain": [
       "False"
      ]
     },
     "execution_count": 4,
     "metadata": {},
     "output_type": "execute_result"
    }
   ],
   "source": [
    "\"s\" in \"pyhton\""
   ]
  },
  {
   "cell_type": "code",
   "execution_count": 5,
   "id": "398427e0",
   "metadata": {},
   "outputs": [
    {
     "data": {
      "text/plain": [
       "False"
      ]
     },
     "execution_count": 5,
     "metadata": {},
     "output_type": "execute_result"
    }
   ],
   "source": [
    "4 in (1,2,3)"
   ]
  },
  {
   "cell_type": "code",
   "execution_count": 6,
   "id": "81cf69b4",
   "metadata": {},
   "outputs": [
    {
     "data": {
      "text/plain": [
       "True"
      ]
     },
     "execution_count": 6,
     "metadata": {},
     "output_type": "execute_result"
    }
   ],
   "source": [
    "not 4 in (1,2,3)"
   ]
  },
  {
   "cell_type": "markdown",
   "id": "05ed5b40",
   "metadata": {},
   "source": [
    "### for Döngüsü\n",
    "\n",
    "for Döngüsü ,  listelerin ,demetlerin, stringlerin ve hatta sözlüklerin üzerinde dolaşmamızı sağlayan bir döngü türüdür. Yapısı şu şekildedir.\n",
    "\n",
    "\n",
    "            for eleman in veri_yapısı(liste,demet vs):\n",
    "                Yapılacak İşlemler\n",
    "Bu yapı bize şunu söyler;\n",
    "\n",
    "            eleman değişkeni her döngünün başında listenin,demetin vs. her bir elemanına eşit olacak ve her döngüde \n",
    "            bu elemanla işlem yapılacak.\n",
    "for döngüsünü daha iyi anlamak için örneklerimize bakalım."
   ]
  },
  {
   "cell_type": "markdown",
   "id": "1d2cdfaf",
   "metadata": {},
   "source": [
    "### Listeler Üzerinde Gezinmek"
   ]
  },
  {
   "cell_type": "code",
   "execution_count": 7,
   "id": "d33b076b",
   "metadata": {},
   "outputs": [
    {
     "name": "stdout",
     "output_type": "stream",
     "text": [
      "1\n",
      "2\n",
      "3\n",
      "4\n",
      "5\n"
     ]
    }
   ],
   "source": [
    "liste =  [1,2,3,4,5]\n",
    "\n",
    "for eleman in liste:\n",
    "    print(eleman)"
   ]
  },
  {
   "cell_type": "code",
   "execution_count": 13,
   "id": "dc49a883",
   "metadata": {},
   "outputs": [
    {
     "name": "stdout",
     "output_type": "stream",
     "text": [
      "28\n"
     ]
    }
   ],
   "source": [
    "toplam = 0\n",
    "liste = [1,2,3,4,5,6,7]\n",
    "\n",
    "for eleman in liste:\n",
    "    toplam = toplam + eleman\n",
    "print(toplam)"
   ]
  },
  {
   "cell_type": "code",
   "execution_count": 14,
   "id": "0d59d277",
   "metadata": {},
   "outputs": [
    {
     "name": "stdout",
     "output_type": "stream",
     "text": [
      "Toplam: 1 Eleman: 1\n",
      "Toplam: 3 Eleman: 2\n",
      "Toplam: 6 Eleman: 3\n",
      "Toplam: 10 Eleman: 4\n",
      "Toplam: 15 Eleman: 5\n",
      "Toplam: 21 Eleman: 6\n",
      "Toplam: 28 Eleman: 7\n",
      "28\n"
     ]
    }
   ],
   "source": [
    "toplam = 0\n",
    "liste = [1,2,3,4,5,6,7]\n",
    "\n",
    "for eleman in liste:\n",
    "    toplam = toplam + eleman\n",
    "    print(\"Toplam: {} Eleman: {}\".format(toplam,eleman))\n",
    "print(toplam)"
   ]
  },
  {
   "cell_type": "code",
   "execution_count": 17,
   "id": "24990f4f",
   "metadata": {},
   "outputs": [
    {
     "name": "stdout",
     "output_type": "stream",
     "text": [
      "2\n",
      "48\n",
      "62\n"
     ]
    }
   ],
   "source": [
    "# çift sayıları şu şekilde bulabiliriz.\n",
    "\n",
    "liste = [1,2,3,25,69,48,62]\n",
    "\n",
    "for eleman in liste:\n",
    "    if eleman % 2 == 0:\n",
    "        print(eleman)"
   ]
  },
  {
   "cell_type": "code",
   "execution_count": 19,
   "id": "08a5be06",
   "metadata": {},
   "outputs": [
    {
     "name": "stdout",
     "output_type": "stream",
     "text": [
      "1\n",
      "3\n",
      "25\n",
      "69\n"
     ]
    }
   ],
   "source": [
    "# tek sayıları şu şekilde bulabiliriz.\n",
    "\n",
    "\n",
    "liste = [1,2,3,25,69,48,62]\n",
    "\n",
    "for eleman in liste:\n",
    "    if eleman % 2 == 1:\n",
    "        print(eleman)"
   ]
  },
  {
   "cell_type": "markdown",
   "id": "0853f5bf",
   "metadata": {},
   "source": [
    "### Karakter Dizileri Üzerinde Gezinmek (Stringler)"
   ]
  },
  {
   "cell_type": "code",
   "execution_count": 21,
   "id": "3022f9bd",
   "metadata": {},
   "outputs": [
    {
     "name": "stdout",
     "output_type": "stream",
     "text": [
      "p\n",
      "y\n",
      "t\n",
      "h\n",
      "o\n",
      "n\n"
     ]
    }
   ],
   "source": [
    "s = \"python\"\n",
    "\n",
    "for i in s:\n",
    "    print(i)"
   ]
  },
  {
   "cell_type": "code",
   "execution_count": 22,
   "id": "bf305796",
   "metadata": {},
   "outputs": [
    {
     "name": "stdout",
     "output_type": "stream",
     "text": [
      "ppp\n",
      "yyy\n",
      "ttt\n",
      "hhh\n",
      "ooo\n",
      "nnn\n"
     ]
    }
   ],
   "source": [
    "# karakterleri şu şekilde çarpabiliriz\n",
    "\n",
    "s = \"python\"\n",
    "\n",
    "for i in s:\n",
    "    print(i * 3)"
   ]
  },
  {
   "cell_type": "markdown",
   "id": "6c291f17",
   "metadata": {},
   "source": [
    "### Demetler üzerinde gezinmek (Demetler)"
   ]
  },
  {
   "cell_type": "code",
   "execution_count": 23,
   "id": "c9b478f7",
   "metadata": {},
   "outputs": [
    {
     "name": "stdout",
     "output_type": "stream",
     "text": [
      "1\n",
      "2\n",
      "3\n",
      "4\n",
      "5\n",
      "6\n"
     ]
    }
   ],
   "source": [
    "demet = {1,2,3,4,5,6}\n",
    "\n",
    "for a in demet:\n",
    "    print(a)"
   ]
  },
  {
   "cell_type": "markdown",
   "id": "bb525cde",
   "metadata": {},
   "source": [
    "Demetlerin üzerinde for döngüsü uygularken aslında çok pratik bir yöntem bulunuyor. Aşağıdaki örneğe bakalım."
   ]
  },
  {
   "cell_type": "code",
   "execution_count": 24,
   "id": "f979daf2",
   "metadata": {},
   "outputs": [
    {
     "name": "stdout",
     "output_type": "stream",
     "text": [
      "(1, 2)\n",
      "(3, 4)\n",
      "(5, 6)\n"
     ]
    }
   ],
   "source": [
    "liste = {(1,2),(3,4),(5,6)}\n",
    "\n",
    "for eleman in liste:\n",
    "    print(eleman)"
   ]
  },
  {
   "cell_type": "code",
   "execution_count": 25,
   "id": "29aa1552",
   "metadata": {},
   "outputs": [
    {
     "name": "stdout",
     "output_type": "stream",
     "text": [
      "i: 1 j: 2\n",
      "i: 3 j: 4\n",
      "i: 5 j: 6\n"
     ]
    }
   ],
   "source": [
    "# şu şekilde daha pratik olur\n",
    "\n",
    "liste = {(1,2),(3,4),(5,6)}\n",
    "\n",
    "for (i,j) in liste:\n",
    "    print(\"i: {} j: {}\".format(i,j))"
   ]
  },
  {
   "cell_type": "code",
   "execution_count": 30,
   "id": "9c88626b",
   "metadata": {},
   "outputs": [
    {
     "name": "stdout",
     "output_type": "stream",
     "text": [
      "1 2 3\n",
      "4 5 6\n",
      "7 8 9\n",
      "10 11 12\n"
     ]
    }
   ],
   "source": [
    "# ya da şu şekilde\n",
    "\n",
    "liste = [(1,2,3),(4,5,6),(7,8,9),(10,11,12)]\n",
    "\n",
    "for (i,j,k) in liste:\n",
    "    print(i,j,k)"
   ]
  },
  {
   "cell_type": "code",
   "execution_count": 31,
   "id": "3ce02ceb",
   "metadata": {},
   "outputs": [
    {
     "name": "stdout",
     "output_type": "stream",
     "text": [
      "6\n",
      "120\n",
      "504\n",
      "1320\n"
     ]
    }
   ],
   "source": [
    "# değerleri birbiriyle çarpabiliriz\n",
    "\n",
    "# ya da şu şekilde\n",
    "\n",
    "liste = [(1,2,3),(4,5,6),(7,8,9),(10,11,12)]\n",
    "\n",
    "for (i,j,k) in liste:\n",
    "    print(i * j * k)"
   ]
  },
  {
   "cell_type": "markdown",
   "id": "b7cef727",
   "metadata": {},
   "source": [
    "### Sözlükler üzerinde gezinmek (Dictionary)\n",
    "\n",
    "Hatırlarsanız, sözlükler konusunda 3 adet metod görmüştük. (*keys(),values(),*items()*). İsterseniz bunları burada hatırlayalım."
   ]
  },
  {
   "cell_type": "code",
   "execution_count": 32,
   "id": "c79b0dac",
   "metadata": {},
   "outputs": [
    {
     "data": {
      "text/plain": [
       "dict_keys(['bir', 'iki', 'üç', 'dört'])"
      ]
     },
     "execution_count": 32,
     "metadata": {},
     "output_type": "execute_result"
    }
   ],
   "source": [
    "sözlük = {\"bir\":1,\"iki\":2,\"üç\":3,\"dört\":4}\n",
    "\n",
    "sözlük.keys()"
   ]
  },
  {
   "cell_type": "code",
   "execution_count": 33,
   "id": "a0f0981d",
   "metadata": {},
   "outputs": [
    {
     "data": {
      "text/plain": [
       "dict_values([1, 2, 3, 4])"
      ]
     },
     "execution_count": 33,
     "metadata": {},
     "output_type": "execute_result"
    }
   ],
   "source": [
    "sözlük.values()"
   ]
  },
  {
   "cell_type": "code",
   "execution_count": 34,
   "id": "ed5fd1bc",
   "metadata": {},
   "outputs": [
    {
     "data": {
      "text/plain": [
       "dict_items([('bir', 1), ('iki', 2), ('üç', 3), ('dört', 4)])"
      ]
     },
     "execution_count": 34,
     "metadata": {},
     "output_type": "execute_result"
    }
   ],
   "source": [
    "sözlük.items()"
   ]
  },
  {
   "cell_type": "markdown",
   "id": "eb5ff851",
   "metadata": {},
   "source": [
    "Python sonuçları *dict_keys,dict_values,dict_items* olarak vermesine rağmen , bunlar üzerinde liste veya demet üzerinde gezinir gibi *for* döngüsüyle gezinebiliriz."
   ]
  },
  {
   "cell_type": "code",
   "execution_count": 35,
   "id": "f076cea8",
   "metadata": {},
   "outputs": [],
   "source": [
    "sözlük = {\"bir\":1,\"iki\":2,\"üç\":3,\"dört\":4}"
   ]
  },
  {
   "cell_type": "code",
   "execution_count": 36,
   "id": "9e86bbcf",
   "metadata": {},
   "outputs": [
    {
     "name": "stdout",
     "output_type": "stream",
     "text": [
      "bir\n",
      "iki\n",
      "üç\n",
      "dört\n"
     ]
    }
   ],
   "source": [
    "for eleman in sözlük:\n",
    "    print(eleman)"
   ]
  },
  {
   "cell_type": "code",
   "execution_count": 37,
   "id": "003b1581",
   "metadata": {},
   "outputs": [
    {
     "name": "stdout",
     "output_type": "stream",
     "text": [
      "1\n",
      "2\n",
      "3\n",
      "4\n"
     ]
    }
   ],
   "source": [
    "for eleman in sözlük.values():\n",
    "    print(eleman)"
   ]
  },
  {
   "cell_type": "code",
   "execution_count": 38,
   "id": "ff384eb2",
   "metadata": {},
   "outputs": [
    {
     "name": "stdout",
     "output_type": "stream",
     "text": [
      "bir\n",
      "iki\n",
      "üç\n",
      "dört\n"
     ]
    }
   ],
   "source": [
    "for eleman in sözlük.keys():\n",
    "    print(eleman)"
   ]
  },
  {
   "cell_type": "code",
   "execution_count": 39,
   "id": "6bca5913",
   "metadata": {},
   "outputs": [
    {
     "name": "stdout",
     "output_type": "stream",
     "text": [
      "Anahtar:  bir Değer:  1\n",
      "Anahtar:  iki Değer:  2\n",
      "Anahtar:  üç Değer:  3\n",
      "Anahtar:  dört Değer:  4\n"
     ]
    }
   ],
   "source": [
    "sözlük = {\"bir\":1,\"iki\":2,\"üç\":3,\"dört\":4}\n",
    "\n",
    "for i,j in sözlük.items():\n",
    "    print(\"Anahtar: \",i, \"Değer: \",j)"
   ]
  },
  {
   "cell_type": "code",
   "execution_count": null,
   "id": "4c9869e6",
   "metadata": {},
   "outputs": [],
   "source": []
  }
 ],
 "metadata": {
  "kernelspec": {
   "display_name": "Python 3 (ipykernel)",
   "language": "python",
   "name": "python3"
  },
  "language_info": {
   "codemirror_mode": {
    "name": "ipython",
    "version": 3
   },
   "file_extension": ".py",
   "mimetype": "text/x-python",
   "name": "python",
   "nbconvert_exporter": "python",
   "pygments_lexer": "ipython3",
   "version": "3.9.7"
  }
 },
 "nbformat": 4,
 "nbformat_minor": 5
}
