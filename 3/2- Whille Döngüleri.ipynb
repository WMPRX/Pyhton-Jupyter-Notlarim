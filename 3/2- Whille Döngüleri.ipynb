{
 "cells": [
  {
   "cell_type": "markdown",
   "id": "562df596",
   "metadata": {},
   "source": [
    "# While Döngüleri\n",
    "\n",
    "Bu bölümde *while* döngülerinin yapısını ve nasıl kullanılacağını öğrenmeye çalışacağız. \n",
    "\n",
    "while döngüleri belli bir koşul sağlandığı sürece bloğundaki işlemleri gerçekleştirmeye devam eder. *while* döngülerinin sona ermesi için koşul durumunun bir süre sonra **False** olması gereklidir.Yapısı şu şekildedir;\n",
    "\n",
    "                                while (koşul):\n",
    "                                    İşlem1\n",
    "                                    İşlem2\n",
    "                                    İşlem3\n",
    "                                      //\n",
    "                                      //\n",
    "while döngülerini daha iyi anlamak için örneklerimize bakalım."
   ]
  },
  {
   "cell_type": "code",
   "execution_count": 2,
   "id": "f664772d",
   "metadata": {},
   "outputs": [
    {
     "name": "stdout",
     "output_type": "stream",
     "text": [
      "İ'nin değer:  0\n",
      "İ'nin değer:  1\n",
      "İ'nin değer:  2\n",
      "İ'nin değer:  3\n",
      "İ'nin değer:  4\n",
      "İ'nin değer:  5\n",
      "İ'nin değer:  6\n",
      "İ'nin değer:  7\n",
      "İ'nin değer:  8\n",
      "İ'nin değer:  9\n"
     ]
    }
   ],
   "source": [
    "i = 0\n",
    "\n",
    "while (i < 10):\n",
    "    print(\"İ'nin değer: \",i)\n",
    "    i += 1      # döngüden çıkıp false olması için mutlaka eklenmeli. aksi durumda sonsuz döngüye girer."
   ]
  },
  {
   "cell_type": "code",
   "execution_count": 3,
   "id": "cb44f584",
   "metadata": {},
   "outputs": [
    {
     "name": "stdout",
     "output_type": "stream",
     "text": [
      "İ'nin değer:  0\n",
      "İ'nin değer:  2\n",
      "İ'nin değer:  4\n",
      "İ'nin değer:  6\n",
      "İ'nin değer:  8\n",
      "İ'nin değer:  10\n",
      "İ'nin değer:  12\n",
      "İ'nin değer:  14\n",
      "İ'nin değer:  16\n",
      "İ'nin değer:  18\n"
     ]
    }
   ],
   "source": [
    "# Bu şekilde 1 değilde 2şer olarak attırabiliriz\n",
    "i = 0\n",
    "\n",
    "while (i < 20):\n",
    "    print(\"İ'nin değer: \",i)\n",
    "    i += 2"
   ]
  },
  {
   "cell_type": "code",
   "execution_count": 4,
   "id": "cf776bba",
   "metadata": {},
   "outputs": [
    {
     "name": "stdout",
     "output_type": "stream",
     "text": [
      "Pyhton Öğreniyorum..\n",
      "Pyhton Öğreniyorum..\n",
      "Pyhton Öğreniyorum..\n",
      "Pyhton Öğreniyorum..\n",
      "Pyhton Öğreniyorum..\n",
      "Pyhton Öğreniyorum..\n",
      "Pyhton Öğreniyorum..\n",
      "Pyhton Öğreniyorum..\n",
      "Pyhton Öğreniyorum..\n",
      "Pyhton Öğreniyorum..\n",
      "Pyhton Öğreniyorum..\n",
      "Pyhton Öğreniyorum..\n",
      "Pyhton Öğreniyorum..\n",
      "Pyhton Öğreniyorum..\n",
      "Pyhton Öğreniyorum..\n",
      "Pyhton Öğreniyorum..\n",
      "Pyhton Öğreniyorum..\n",
      "Pyhton Öğreniyorum..\n",
      "Pyhton Öğreniyorum..\n",
      "Pyhton Öğreniyorum..\n",
      "Pyhton Öğreniyorum..\n",
      "Pyhton Öğreniyorum..\n",
      "Pyhton Öğreniyorum..\n",
      "Pyhton Öğreniyorum..\n",
      "Pyhton Öğreniyorum..\n",
      "Pyhton Öğreniyorum..\n",
      "Pyhton Öğreniyorum..\n",
      "Pyhton Öğreniyorum..\n",
      "Pyhton Öğreniyorum..\n",
      "Pyhton Öğreniyorum..\n",
      "Pyhton Öğreniyorum..\n",
      "Pyhton Öğreniyorum..\n",
      "Pyhton Öğreniyorum..\n",
      "Pyhton Öğreniyorum..\n",
      "Pyhton Öğreniyorum..\n",
      "Pyhton Öğreniyorum..\n",
      "Pyhton Öğreniyorum..\n",
      "Pyhton Öğreniyorum..\n",
      "Pyhton Öğreniyorum..\n",
      "Pyhton Öğreniyorum..\n"
     ]
    }
   ],
   "source": [
    "a = 0\n",
    "\n",
    "while (a < 40):\n",
    "    print(\"Pyhton Öğreniyorum..\")\n",
    "    a += 1"
   ]
  },
  {
   "cell_type": "code",
   "execution_count": 7,
   "id": "be76c737",
   "metadata": {
    "scrolled": true
   },
   "outputs": [
    {
     "name": "stdout",
     "output_type": "stream",
     "text": [
      "index:  0 İndex Değeri:  1\n",
      "index:  1 İndex Değeri:  2\n",
      "index:  2 İndex Değeri:  3\n",
      "index:  3 İndex Değeri:  4\n"
     ]
    }
   ],
   "source": [
    "# liste üzerinde index ile gezinme\n",
    "\n",
    "liste = [1,2,3,4]\n",
    "index = 0\n",
    "\n",
    "while (index < len(liste)):   #listenin boyu kadar ilerle anlamına gelir.\n",
    "    print(\"index: \",index,\"İndex Değeri: \",liste[index])\n",
    "    index += 1"
   ]
  },
  {
   "cell_type": "markdown",
   "id": "cd30e267",
   "metadata": {},
   "source": [
    "### Sonsuz Döngü Olayları\n",
    "\n",
    "while döngüsü kullanırken biraz dikkatli olmamızda fayda var. Çünkü, while döngü koşulunun bir süre sonra **False** olması gerekecek ki döngümüz sonlanabilsin. Ancak eğer biz **while** döngülerinde bu durumu unutursak , döngümüz sonsuza kadar çalışacaktır. Biz buna **sonsuz döngü** olayı diyoruz. Örneğimize bakalım"
   ]
  },
  {
   "cell_type": "code",
   "execution_count": null,
   "id": "98b8a8b7",
   "metadata": {},
   "outputs": [],
   "source": [
    "# Bu kodu çaıştırmayalım. Jupyter sıkıntı çıkarabilir :)\n",
    "i = 0 \n",
    "while (i < 10):\n",
    "    print(i)\n",
    "    # i değişkenini artırma işlemi yapmadığımız için i değişkeninin değeri sürekli 0 kalıyor \n",
    "    # ve döngü koşulu sürekli True kalıyor.\n",
    "    "
   ]
  }
 ],
 "metadata": {
  "kernelspec": {
   "display_name": "Python 3 (ipykernel)",
   "language": "python",
   "name": "python3"
  },
  "language_info": {
   "codemirror_mode": {
    "name": "ipython",
    "version": 3
   },
   "file_extension": ".py",
   "mimetype": "text/x-python",
   "name": "python",
   "nbconvert_exporter": "python",
   "pygments_lexer": "ipython3",
   "version": "3.9.7"
  }
 },
 "nbformat": 4,
 "nbformat_minor": 5
}
